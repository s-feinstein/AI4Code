{
 "cells": [
  {
   "cell_type": "markdown",
   "id": "ef6f6f7f",
   "metadata": {
    "id": "view-in-github",
    "papermill": {
     "duration": 0.007931,
     "end_time": "2022-11-29T02:24:30.662254",
     "exception": false,
     "start_time": "2022-11-29T02:24:30.654323",
     "status": "completed"
    },
    "tags": []
   },
   "source": [
    "<a href=\"https://colab.research.google.com/github/s-feinstein/G2Net/blob/dev/G2Net.ipynb\" target=\"_parent\"><img src=\"https://colab.research.google.com/assets/colab-badge.svg\" alt=\"Open In Colab\"/></a>"
   ]
  },
  {
   "cell_type": "markdown",
   "id": "931c3944",
   "metadata": {
    "id": "7uhXOtQg9B6y",
    "papermill": {
     "duration": 0.00475,
     "end_time": "2022-11-29T02:24:30.672544",
     "exception": false,
     "start_time": "2022-11-29T02:24:30.667794",
     "status": "completed"
    },
    "tags": []
   },
   "source": [
    "# [G2Net](https://www.kaggle.com/competitions/g2net-detecting-continuous-gravitational-waves/) – Detecting Continuous Gravitational Waves\n",
    "\n",
    "**Objective:**\n",
    "Help us detect long-lasting gravitational-wave signals!\n",
    "\n",
    "The goal of this competition is to find continuous gravitational-wave signals. You will develop a model sensitive enough to detect weak yet long-lasting signals emitted by rapidly-spinning neutron stars within noisy data.\n",
    "\n",
    "**Secret Objective!!!** Receive excellent marks from this final project in [3253 - Machine Learning at U. Toronto](https://learn.utoronto.ca/programs-courses/courses/3253-machine-learning)"
   ]
  },
  {
   "cell_type": "markdown",
   "id": "e83a8425",
   "metadata": {
    "id": "mX2OHrGhLqjR",
    "papermill": {
     "duration": 0.005059,
     "end_time": "2022-11-29T02:24:30.682558",
     "exception": false,
     "start_time": "2022-11-29T02:24:30.677499",
     "status": "completed"
    },
    "tags": []
   },
   "source": [
    "## Authenticate with Secrets"
   ]
  },
  {
   "cell_type": "code",
   "execution_count": 1,
   "id": "213adc60",
   "metadata": {
    "execution": {
     "iopub.execute_input": "2022-11-29T02:24:30.696226Z",
     "iopub.status.busy": "2022-11-29T02:24:30.695113Z",
     "iopub.status.idle": "2022-11-29T02:24:32.088430Z",
     "shell.execute_reply": "2022-11-29T02:24:32.086603Z"
    },
    "id": "5fdmPvLSLuXH",
    "outputId": "09f97683-10d9-4636-b458-c043d59c9821",
    "papermill": {
     "duration": 1.404,
     "end_time": "2022-11-29T02:24:32.091692",
     "exception": false,
     "start_time": "2022-11-29T02:24:30.687692",
     "status": "completed"
    },
    "tags": []
   },
   "outputs": [],
   "source": [
    "!wget -q -N \"https://raw.githubusercontent.com/s-feinstein/G2Net/dev/setup-colab.py\"\n",
    "%run setup-colab.py"
   ]
  },
  {
   "cell_type": "markdown",
   "id": "cf2a0e58",
   "metadata": {
    "id": "c8Gmelta-J_r",
    "papermill": {
     "duration": 0.004848,
     "end_time": "2022-11-29T02:24:32.101736",
     "exception": false,
     "start_time": "2022-11-29T02:24:32.096888",
     "status": "completed"
    },
    "tags": []
   },
   "source": [
    "## Import the dataset"
   ]
  },
  {
   "cell_type": "code",
   "execution_count": 2,
   "id": "4216a4c4",
   "metadata": {
    "execution": {
     "iopub.execute_input": "2022-11-29T02:24:32.113929Z",
     "iopub.status.busy": "2022-11-29T02:24:32.113491Z",
     "iopub.status.idle": "2022-11-29T02:24:33.643917Z",
     "shell.execute_reply": "2022-11-29T02:24:33.642737Z"
    },
    "id": "Uh5EmJ8v9A1Q",
    "outputId": "716dc602-281a-4304-b21c-2fade3dee313",
    "papermill": {
     "duration": 1.539807,
     "end_time": "2022-11-29T02:24:33.646604",
     "exception": false,
     "start_time": "2022-11-29T02:24:32.106797",
     "status": "completed"
    },
    "tags": []
   },
   "outputs": [
    {
     "name": "stdout",
     "output_type": "stream",
     "text": [
      "Traceback (most recent call last):\r\n",
      "  File \"/opt/conda/bin/kaggle\", line 5, in <module>\r\n",
      "    from kaggle.cli import main\r\n",
      "  File \"/opt/conda/lib/python3.7/site-packages/kaggle/__init__.py\", line 23, in <module>\r\n",
      "    api.authenticate()\r\n",
      "  File \"/opt/conda/lib/python3.7/site-packages/kaggle/api/kaggle_api_extended.py\", line 166, in authenticate\r\n",
      "    self.config_file, self.config_dir))\r\n",
      "OSError: Could not find kaggle.json. Make sure it's located in /root/.kaggle. Or use the environment method.\r\n"
     ]
    }
   ],
   "source": [
    "# !pip install kaggle\n",
    "\n",
    "!kaggle competitions download g2net-detecting-continuous-gravitational-waves"
   ]
  },
  {
   "cell_type": "markdown",
   "id": "58055103",
   "metadata": {
    "id": "HqZtXQOBALCY",
    "papermill": {
     "duration": 0.004923,
     "end_time": "2022-11-29T02:24:33.656820",
     "exception": false,
     "start_time": "2022-11-29T02:24:33.651897",
     "status": "completed"
    },
    "tags": []
   },
   "source": [
    "## Load the labels\n",
    "\n",
    "Load the labels and split it into train and test"
   ]
  },
  {
   "cell_type": "code",
   "execution_count": 3,
   "id": "1a4e4260",
   "metadata": {
    "execution": {
     "iopub.execute_input": "2022-11-29T02:24:33.669056Z",
     "iopub.status.busy": "2022-11-29T02:24:33.668639Z",
     "iopub.status.idle": "2022-11-29T02:24:34.940434Z",
     "shell.execute_reply": "2022-11-29T02:24:34.938822Z"
    },
    "id": "HQgAHj9uAM-T",
    "outputId": "bc1ea68d-19bb-45c4-92a4-0a451b348d8b",
    "papermill": {
     "duration": 1.28157,
     "end_time": "2022-11-29T02:24:34.943600",
     "exception": false,
     "start_time": "2022-11-29T02:24:33.662030",
     "status": "completed"
    },
    "tags": []
   },
   "outputs": [
    {
     "name": "stdout",
     "output_type": "stream",
     "text": [
      "<class 'pandas.core.frame.DataFrame'>\n",
      "Int64Index: 420 entries, 108 to 102\n",
      "Data columns (total 2 columns):\n",
      " #   Column  Non-Null Count  Dtype \n",
      "---  ------  --------------  ----- \n",
      " 0   id      420 non-null    object\n",
      " 1   target  420 non-null    int64 \n",
      "dtypes: int64(1), object(1)\n",
      "memory usage: 9.8+ KB\n"
     ]
    }
   ],
   "source": [
    "import pandas as pd\n",
    "labels = pd.read_csv('../input/g2net-detecting-continuous-gravitational-waves/train_labels.csv')\n",
    "\n",
    "# Removing the negative labels\n",
    "labels = labels[labels.target>=0]\n",
    "# train_labels.target.value_counts()\n",
    "# train_labels.info()\n",
    "\n",
    "# Split Data\n",
    "from sklearn.model_selection import train_test_split\n",
    "#train test split\n",
    "train_labels, test_labels = train_test_split(labels, test_size=0.3, random_state=42)\n",
    "train_labels.info()"
   ]
  },
  {
   "cell_type": "markdown",
   "id": "a8c2b0da",
   "metadata": {
    "papermill": {
     "duration": 0.005291,
     "end_time": "2022-11-29T02:24:34.954651",
     "exception": false,
     "start_time": "2022-11-29T02:24:34.949360",
     "status": "completed"
    },
    "tags": []
   },
   "source": [
    "## Generate list of the training file paths"
   ]
  },
  {
   "cell_type": "code",
   "execution_count": 4,
   "id": "011d32d3",
   "metadata": {
    "execution": {
     "iopub.execute_input": "2022-11-29T02:24:34.967100Z",
     "iopub.status.busy": "2022-11-29T02:24:34.966255Z",
     "iopub.status.idle": "2022-11-29T02:24:34.977822Z",
     "shell.execute_reply": "2022-11-29T02:24:34.976689Z"
    },
    "papermill": {
     "duration": 0.020327,
     "end_time": "2022-11-29T02:24:34.980158",
     "exception": false,
     "start_time": "2022-11-29T02:24:34.959831",
     "status": "completed"
    },
    "tags": []
   },
   "outputs": [
    {
     "data": {
      "text/plain": [
       "'/kaggle/input/g2net-detecting-continuous-gravitational-waves/train/2688e48bd.hdf5'"
      ]
     },
     "execution_count": 4,
     "metadata": {},
     "output_type": "execute_result"
    }
   ],
   "source": [
    "import os\n",
    "\n",
    "train_files = []\n",
    "train_path = \"/kaggle/input/g2net-detecting-continuous-gravitational-waves/train\"\n",
    "for id in train_labels.loc[:,\"id\"]:\n",
    "    filename = id + \".hdf5\"\n",
    "    path = os.path.join(train_path, filename)\n",
    "    train_files.append(path)\n",
    "    \n",
    "train_files[0]"
   ]
  },
  {
   "cell_type": "markdown",
   "id": "371d503d",
   "metadata": {
    "papermill": {
     "duration": 0.006476,
     "end_time": "2022-11-29T02:24:34.992029",
     "exception": false,
     "start_time": "2022-11-29T02:24:34.985553",
     "status": "completed"
    },
    "tags": []
   },
   "source": [
    "## Explore the data"
   ]
  },
  {
   "cell_type": "code",
   "execution_count": 5,
   "id": "2f9b21e9",
   "metadata": {
    "execution": {
     "iopub.execute_input": "2022-11-29T02:24:35.005135Z",
     "iopub.status.busy": "2022-11-29T02:24:35.003785Z",
     "iopub.status.idle": "2022-11-29T02:24:35.251273Z",
     "shell.execute_reply": "2022-11-29T02:24:35.249925Z"
    },
    "papermill": {
     "duration": 0.257801,
     "end_time": "2022-11-29T02:24:35.255043",
     "exception": false,
     "start_time": "2022-11-29T02:24:34.997242",
     "status": "completed"
    },
    "tags": []
   },
   "outputs": [
    {
     "name": "stdout",
     "output_type": "stream",
     "text": [
      "2688e48bd\n",
      "<KeysViewHDF5 ['H1', 'L1', 'frequency_Hz']>\n",
      "<KeysViewHDF5 ['SFTs', 'timestamps_GPS']>\n",
      "<KeysViewHDF5 ['SFTs', 'timestamps_GPS']>\n",
      "<HDF5 dataset \"frequency_Hz\": shape (360,), type \"<f8\">\n",
      "[306.92055556 306.92111111 306.92166667 306.92222222]\n",
      "<HDF5 dataset \"timestamps_GPS\": shape (4564,), type \"<i8\">\n",
      "1238170479  -  1248546822\n",
      "<HDF5 dataset \"SFTs\": shape (360, 4564), type \"<c8\">\n",
      "[[-4.5731778e-23+1.18721092e-22j  2.8206372e-23-1.11619598e-23j\n",
      "   1.1124856e-22-3.01264718e-23j ... -9.1336872e-23-1.15372359e-22j\n",
      "   4.9273540e-23+8.50121319e-23j -2.2122217e-22+7.59737612e-23j]\n",
      " [-4.5931660e-23-1.34403698e-22j  2.4227980e-23+1.09901059e-22j\n",
      "   1.7774413e-22-1.22264384e-23j ... -9.4565130e-23+2.65873464e-22j\n",
      "  -4.0620313e-23-4.09678061e-23j -7.8723440e-23-4.63299556e-23j]]\n",
      "<HDF5 dataset \"timestamps_GPS\": shape (4646,), type \"<i8\">\n",
      "1238167882  -  1248558232\n",
      "<HDF5 dataset \"SFTs\": shape (360, 4646), type \"<c8\">\n",
      "[[ 2.2248422e-22+5.95424828e-23j -1.1790475e-22-6.16426640e-23j\n",
      "   6.1226429e-23+8.86846644e-23j ... -4.7563437e-23+1.50807625e-22j\n",
      "   1.5231211e-22-3.16075486e-23j -1.2408348e-22+1.00703377e-22j]\n",
      " [ 6.6662400e-23+1.94688158e-23j  1.6869725e-22-5.63161111e-23j\n",
      "   2.3793220e-23-7.21484611e-23j ... -1.3155282e-22-9.33249966e-23j\n",
      "  -2.2897292e-22+7.13257659e-24j  3.4023306e-23-1.00261690e-22j]]\n"
     ]
    }
   ],
   "source": [
    "import h5py\n",
    "file = h5py.File(train_files[0])\n",
    "\n",
    "print(list(file.keys())[0])\n",
    "print(file['2688e48bd'].keys())\n",
    "print(file['2688e48bd']['H1'].keys())\n",
    "print(file['2688e48bd']['L1'].keys())\n",
    "print(file['2688e48bd']['frequency_Hz'])\n",
    "print(file['2688e48bd']['frequency_Hz'][0:4])\n",
    "print(file['2688e48bd']['H1']['timestamps_GPS'])\n",
    "print(file['2688e48bd']['H1']['timestamps_GPS'][0], \" - \", file['2688e48bd']['H1']['timestamps_GPS'][-1])\n",
    "print(file['2688e48bd']['H1']['SFTs'])\n",
    "print(file['2688e48bd']['H1']['SFTs'][0:2])\n",
    "print(file['2688e48bd']['L1']['timestamps_GPS'])\n",
    "print(file['2688e48bd']['L1']['timestamps_GPS'][0], \" - \", file['2688e48bd']['L1']['timestamps_GPS'][-1])\n",
    "print(file['2688e48bd']['L1']['SFTs'])\n",
    "print(file['2688e48bd']['L1']['SFTs'][0:2])"
   ]
  },
  {
   "cell_type": "markdown",
   "id": "4731ceb2",
   "metadata": {
    "papermill": {
     "duration": 0.005224,
     "end_time": "2022-11-29T02:24:35.266261",
     "exception": false,
     "start_time": "2022-11-29T02:24:35.261037",
     "status": "completed"
    },
    "tags": []
   },
   "source": [
    "## Load the data into a dataframe"
   ]
  },
  {
   "cell_type": "code",
   "execution_count": 6,
   "id": "7d50c433",
   "metadata": {
    "execution": {
     "iopub.execute_input": "2022-11-29T02:24:35.279495Z",
     "iopub.status.busy": "2022-11-29T02:24:35.278710Z",
     "iopub.status.idle": "2022-11-29T02:24:35.288526Z",
     "shell.execute_reply": "2022-11-29T02:24:35.287571Z"
    },
    "papermill": {
     "duration": 0.019522,
     "end_time": "2022-11-29T02:24:35.291127",
     "exception": false,
     "start_time": "2022-11-29T02:24:35.271605",
     "status": "completed"
    },
    "tags": []
   },
   "outputs": [],
   "source": [
    "# https://www.kaggle.com/code/maharshipandya/g2net-data-and-augmentation\n",
    "# Added a minor improvement to flatten images to instance variables\n",
    "# for easier model training\n",
    "\n",
    "import numpy as np\n",
    "BASE_DIR = \"/kaggle/input/g2net-detecting-continuous-gravitational-waves/train/\"\n",
    "\n",
    "class SFT2Img:\n",
    "    def __init__(self, labels):\n",
    "        # labels the dataframe of train labels\n",
    "        self.labels = labels\n",
    "            \n",
    "    \n",
    "    def __getitem__(self, index):\n",
    "        # get the file id from dataframe\n",
    "        lab = self.labels.iloc[index]\n",
    "        file_id = lab[\"id\"]\n",
    "        \n",
    "        # this is our label\n",
    "        y = np.float32(lab[\"target\"])\n",
    "        \n",
    "        # SFT tensor for H1 and L1 observatory (128 columns)\n",
    "        img = np.empty((2, 360, 128), dtype=np.float32)\n",
    "        \n",
    "        filename = f\"{file_id}.hdf5\"\n",
    "        with h5py.File(BASE_DIR + filename, 'r') as f:\n",
    "            group = f[file_id]\n",
    "            \n",
    "            for i, obs in enumerate(['H1', 'L1']):\n",
    "                # scaling the fourier transforms (complex64 in nature)\n",
    "                sft = group[obs]['SFTs'][:, :4096] * 1e22\n",
    "                \n",
    "                # magnitude squared\n",
    "                mag = sft.real ** 2 + sft.imag ** 2\n",
    "                \n",
    "                # normalize and reduce 4096 to 128\n",
    "                mag /= np.mean(mag)\n",
    "                mag = np.mean(mag.reshape(360, 128, 32), axis=2)\n",
    "                \n",
    "                # 0 for H1 and 1 for L1\n",
    "                img[i] = mag\n",
    "        \n",
    "        return img, y"
   ]
  },
  {
   "cell_type": "code",
   "execution_count": 7,
   "id": "4d7d87da",
   "metadata": {
    "execution": {
     "iopub.execute_input": "2022-11-29T02:24:35.304471Z",
     "iopub.status.busy": "2022-11-29T02:24:35.303718Z",
     "iopub.status.idle": "2022-11-29T02:27:47.293747Z",
     "shell.execute_reply": "2022-11-29T02:27:47.292422Z"
    },
    "papermill": {
     "duration": 192.006327,
     "end_time": "2022-11-29T02:27:47.303000",
     "exception": false,
     "start_time": "2022-11-29T02:24:35.296673",
     "status": "completed"
    },
    "tags": []
   },
   "outputs": [
    {
     "name": "stdout",
     "output_type": "stream",
     "text": [
      "Shape of the labels:  (420,)\n",
      "Shape of H1:  (420, 46080)\n",
      "Shape of L1:  (420, 46080)\n"
     ]
    }
   ],
   "source": [
    "train_dataset = SFT2Img(train_labels)\n",
    "train_H1 = np.ndarray(shape=(0, 360*128))\n",
    "train_L1 = np.ndarray(shape=(0, 360*128))     \n",
    "for i in range(train_dataset.labels.target.shape[0]):\n",
    "    img, label = train_dataset[i]\n",
    "    H1img = np.array(img[0]).flatten()\n",
    "    L1img = np.array(img[1]).flatten()\n",
    "    train_H1 = np.vstack((train_H1, H1img))\n",
    "    train_L1 = np.vstack((train_L1, L1img))\n",
    "            \n",
    "print(\"Shape of the labels: \", train_dataset.labels.target.shape)\n",
    "print(\"Shape of H1: \", train_H1.shape)\n",
    "print(\"Shape of L1: \", train_L1.shape)"
   ]
  },
  {
   "cell_type": "markdown",
   "id": "b7894914",
   "metadata": {
    "papermill": {
     "duration": 0.005052,
     "end_time": "2022-11-29T02:27:47.313476",
     "exception": false,
     "start_time": "2022-11-29T02:27:47.308424",
     "status": "completed"
    },
    "tags": []
   },
   "source": [
    "## Model Evaluation\n",
    "\n",
    "Simple model evaluation for consistent testing and comparison as we try different approaches"
   ]
  },
  {
   "cell_type": "code",
   "execution_count": 8,
   "id": "42e34e02",
   "metadata": {
    "execution": {
     "iopub.execute_input": "2022-11-29T02:27:47.326080Z",
     "iopub.status.busy": "2022-11-29T02:27:47.325675Z",
     "iopub.status.idle": "2022-11-29T02:27:47.337277Z",
     "shell.execute_reply": "2022-11-29T02:27:47.336027Z"
    },
    "papermill": {
     "duration": 0.020876,
     "end_time": "2022-11-29T02:27:47.339701",
     "exception": false,
     "start_time": "2022-11-29T02:27:47.318825",
     "status": "completed"
    },
    "tags": []
   },
   "outputs": [],
   "source": [
    "class Performance():\n",
    "    def __init__(self, modelOutput, expectedOutput):\n",
    "        self.truePos = 0\n",
    "        self.trueNeg = 0\n",
    "        self.falsePos = 0\n",
    "        self.falseNeg = 0\n",
    "        self.precision = 0\n",
    "        self.recall = 0\n",
    "        self.harmonicMean = 0\n",
    "        self.calculate(modelOutput, expectedOutput)\n",
    "        \n",
    "    def compare_scores(modelOutput, expectedOutput):\n",
    "        return\n",
    "        # Fill this in later, compare each score to tally TP/FP/TN/FN\n",
    "\n",
    "    # Precision: TP / (TP + FP)        \n",
    "    def calculate_precision():\n",
    "        self.precision = self.truePos / ( self.truePos + self.falsePos)\n",
    "        return self.precision\n",
    "\n",
    "    # Recall: TP / (TP + FN)\n",
    "    def calculate_recall():\n",
    "        self.recall = self.truePos / ( self.truePos + self.falseNeg)\n",
    "        return self.recall\n",
    "    \n",
    "    # Harmonic Mean: F1 = TP / (TP + ((FN + FP)/ 2) ) = 2 * ( (Precision * Recall) / (Precision + Recall) )\n",
    "    def calculate_harmonic_mean():\n",
    "        self.harmonicMean = 2 * ( (self.precision * self.recall) / (self.precision + self.recall) )\n",
    "        return self.harmonicMean\n",
    "    \n",
    "    # Print the results\n",
    "    def get_results():\n",
    "        print(\"True Positives: \", self.truePos)\n",
    "        print(\"True Negatives: \", self.trueNeg)\n",
    "        print(\"False Positives: \", self.falsePos)\n",
    "        print(\"False Negatives: \", self.falseNeg)\n",
    "        print(\"Precision: \", self.precision)\n",
    "        print(\"Recall: \", self.recall)\n",
    "        print(\"Harmonic Mean: \", self.harmonicMean)\n",
    "        \n",
    "    # Calculate pipeline\n",
    "    def calculate(modelOutput, expectedOutput):\n",
    "        compare_scores(modelOutput, expectedOutput)\n",
    "        calculate_precision()\n",
    "        calculate_recall()\n",
    "        calculate_harmonic_mean()\n",
    "        get_results()   "
   ]
  },
  {
   "cell_type": "markdown",
   "id": "bd9e9721",
   "metadata": {
    "papermill": {
     "duration": 0.005054,
     "end_time": "2022-11-29T02:27:47.350131",
     "exception": false,
     "start_time": "2022-11-29T02:27:47.345077",
     "status": "completed"
    },
    "tags": []
   },
   "source": [
    "## Train a basic model for baseline testing\n",
    "There's a lot of data engineering we can try with this in terms of data transformations, data alignment and normalization, selectively excluding data, etc.\n",
    "But first, let's take a naive approach and see how a few basic models fare.\n",
    "That way we can see if future optimizations work and how well."
   ]
  },
  {
   "cell_type": "code",
   "execution_count": 9,
   "id": "8c7b454c",
   "metadata": {
    "execution": {
     "iopub.execute_input": "2022-11-29T02:27:47.362403Z",
     "iopub.status.busy": "2022-11-29T02:27:47.362018Z",
     "iopub.status.idle": "2022-11-29T02:27:47.740217Z",
     "shell.execute_reply": "2022-11-29T02:27:47.738572Z"
    },
    "papermill": {
     "duration": 0.391168,
     "end_time": "2022-11-29T02:27:47.746550",
     "exception": false,
     "start_time": "2022-11-29T02:27:47.355382",
     "status": "completed"
    },
    "tags": []
   },
   "outputs": [
    {
     "name": "stdout",
     "output_type": "stream",
     "text": [
      "Prediction:  0\n",
      "Actual:  0\n"
     ]
    }
   ],
   "source": [
    "from sklearn.linear_model import SGDClassifier\n",
    "import numpy as np\n",
    "\n",
    "#sgd stands for stochastic gradient descent (read more about GSD https://medium.com/@lachlanmiller_52885/machine-learning-week-1-cost-function-gradient-descent-and-univariate-linear-regression-8f5fe69815fd)\n",
    "#clf stands for classifier\n",
    "sgd_clf = SGDClassifier(max_iter=5, tol=-np.infty, random_state=42)\n",
    "sgd_clf.fit(train_H1, train_dataset.labels.target)\n",
    "\n",
    "pred = sgd_clf.predict([train_H1[11]])\n",
    "print(\"Prediction: \", pred[0])\n",
    "print(\"Actual: \", train_dataset.labels.target.iloc[11])\n"
   ]
  },
  {
   "cell_type": "markdown",
   "id": "a18432e6",
   "metadata": {
    "papermill": {
     "duration": 0.012693,
     "end_time": "2022-11-29T02:27:47.773237",
     "exception": false,
     "start_time": "2022-11-29T02:27:47.760544",
     "status": "completed"
    },
    "tags": []
   },
   "source": []
  }
 ],
 "metadata": {
  "kernelspec": {
   "display_name": "Python 3",
   "language": "python",
   "name": "python3"
  },
  "language_info": {
   "codemirror_mode": {
    "name": "ipython",
    "version": 3
   },
   "file_extension": ".py",
   "mimetype": "text/x-python",
   "name": "python",
   "nbconvert_exporter": "python",
   "pygments_lexer": "ipython3",
   "version": "3.7.12"
  },
  "papermill": {
   "default_parameters": {},
   "duration": 207.096133,
   "end_time": "2022-11-29T02:27:48.723503",
   "environment_variables": {},
   "exception": null,
   "input_path": "__notebook__.ipynb",
   "output_path": "__notebook__.ipynb",
   "parameters": {},
   "start_time": "2022-11-29T02:24:21.627370",
   "version": "2.3.4"
  }
 },
 "nbformat": 4,
 "nbformat_minor": 5
}
