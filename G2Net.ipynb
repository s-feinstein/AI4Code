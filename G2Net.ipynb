{
 "cells": [
  {
   "cell_type": "markdown",
   "id": "1cc52172",
   "metadata": {
    "id": "view-in-github",
    "papermill": {
     "duration": 0.011409,
     "end_time": "2022-11-30T20:37:24.990810",
     "exception": false,
     "start_time": "2022-11-30T20:37:24.979401",
     "status": "completed"
    },
    "tags": []
   },
   "source": [
    "<a href=\"https://colab.research.google.com/github/s-feinstein/G2Net/blob/dev/G2Net.ipynb\" target=\"_parent\"><img src=\"https://colab.research.google.com/assets/colab-badge.svg\" alt=\"Open In Colab\"/></a>"
   ]
  },
  {
   "cell_type": "markdown",
   "id": "960ebeeb",
   "metadata": {
    "id": "7uhXOtQg9B6y",
    "papermill": {
     "duration": 0.00874,
     "end_time": "2022-11-30T20:37:25.009158",
     "exception": false,
     "start_time": "2022-11-30T20:37:25.000418",
     "status": "completed"
    },
    "tags": []
   },
   "source": [
    "# [G2Net](https://www.kaggle.com/competitions/g2net-detecting-continuous-gravitational-waves/) – Detecting Continuous Gravitational Waves\n",
    "\n",
    "**Objective:**\n",
    "Help us detect long-lasting gravitational-wave signals!\n",
    "\n",
    "The goal of this competition is to find continuous gravitational-wave signals. You will develop a model sensitive enough to detect weak yet long-lasting signals emitted by rapidly-spinning neutron stars within noisy data.\n",
    "\n",
    "**Secret Objective!!!** Receive excellent marks from this final project in [3253 - Machine Learning at U. Toronto](https://learn.utoronto.ca/programs-courses/courses/3253-machine-learning)"
   ]
  },
  {
   "cell_type": "markdown",
   "id": "99fb5a9c",
   "metadata": {
    "id": "mX2OHrGhLqjR",
    "papermill": {
     "duration": 0.008631,
     "end_time": "2022-11-30T20:37:25.026934",
     "exception": false,
     "start_time": "2022-11-30T20:37:25.018303",
     "status": "completed"
    },
    "tags": []
   },
   "source": [
    "## Authenticate with Secrets (Obsolete: Style Points Only)\n",
    "I switched from Google Colab to Kaggle notebooks because the dataset was (much) too large for Colab, so this part isn't actually necessary anymore. Kaggle offers the data directly so there's no need to authenticate with an API token. However it was neat enough I left it in, and it would be useful if I needed to manage other secrets in the future.\n",
    "\n",
    "> !wget -q -N \"https://raw.githubusercontent.com/s-feinstein/G2Net/dev/setup-colab.py\"\n",
    ">\n",
    "> %run setup-colab.py\n",
    "\n",
    "## Import the dataset (Also Obsolete when running on the Kaggle platform)\n",
    "\n",
    "\n",
    "> !pip install kaggle\n",
    ">\n",
    "> !kaggle competitions download g2net-detecting-continuous-gravitational-waves"
   ]
  },
  {
   "cell_type": "markdown",
   "id": "37872d71",
   "metadata": {
    "id": "HqZtXQOBALCY",
    "papermill": {
     "duration": 0.010543,
     "end_time": "2022-11-30T20:37:25.050778",
     "exception": false,
     "start_time": "2022-11-30T20:37:25.040235",
     "status": "completed"
    },
    "tags": []
   },
   "source": [
    "## Load the labels\n",
    "\n",
    "Load the labels and split it into train and test"
   ]
  },
  {
   "cell_type": "code",
   "execution_count": 1,
   "id": "de2b3417",
   "metadata": {
    "execution": {
     "iopub.execute_input": "2022-11-30T20:37:25.077212Z",
     "iopub.status.busy": "2022-11-30T20:37:25.076011Z",
     "iopub.status.idle": "2022-11-30T20:37:26.296289Z",
     "shell.execute_reply": "2022-11-30T20:37:26.294654Z"
    },
    "id": "HQgAHj9uAM-T",
    "outputId": "bc1ea68d-19bb-45c4-92a4-0a451b348d8b",
    "papermill": {
     "duration": 1.238264,
     "end_time": "2022-11-30T20:37:26.299218",
     "exception": false,
     "start_time": "2022-11-30T20:37:25.060954",
     "status": "completed"
    },
    "tags": []
   },
   "outputs": [
    {
     "name": "stdout",
     "output_type": "stream",
     "text": [
      "<class 'pandas.core.frame.DataFrame'>\n",
      "Int64Index: 420 entries, 108 to 102\n",
      "Data columns (total 2 columns):\n",
      " #   Column  Non-Null Count  Dtype \n",
      "---  ------  --------------  ----- \n",
      " 0   id      420 non-null    object\n",
      " 1   target  420 non-null    int64 \n",
      "dtypes: int64(1), object(1)\n",
      "memory usage: 9.8+ KB\n"
     ]
    }
   ],
   "source": [
    "import pandas as pd\n",
    "labels = pd.read_csv('../input/g2net-detecting-continuous-gravitational-waves/train_labels.csv')\n",
    "\n",
    "# Removing the negative labels\n",
    "labels = labels[labels.target>=0]\n",
    "# train_labels.target.value_counts()\n",
    "# train_labels.info()\n",
    "\n",
    "# Split Data\n",
    "from sklearn.model_selection import train_test_split\n",
    "#train test split\n",
    "train_labels, test_labels = train_test_split(labels, test_size=0.3, random_state=42)\n",
    "train_labels.info()"
   ]
  },
  {
   "cell_type": "markdown",
   "id": "7e28df2f",
   "metadata": {
    "papermill": {
     "duration": 0.009283,
     "end_time": "2022-11-30T20:37:26.318198",
     "exception": false,
     "start_time": "2022-11-30T20:37:26.308915",
     "status": "completed"
    },
    "tags": []
   },
   "source": [
    "## Generate list of the training file paths"
   ]
  },
  {
   "cell_type": "code",
   "execution_count": 2,
   "id": "3bd4e9ad",
   "metadata": {
    "execution": {
     "iopub.execute_input": "2022-11-30T20:37:26.339665Z",
     "iopub.status.busy": "2022-11-30T20:37:26.339237Z",
     "iopub.status.idle": "2022-11-30T20:37:26.351463Z",
     "shell.execute_reply": "2022-11-30T20:37:26.350178Z"
    },
    "papermill": {
     "duration": 0.026036,
     "end_time": "2022-11-30T20:37:26.353708",
     "exception": false,
     "start_time": "2022-11-30T20:37:26.327672",
     "status": "completed"
    },
    "tags": []
   },
   "outputs": [
    {
     "data": {
      "text/plain": [
       "'/kaggle/input/g2net-detecting-continuous-gravitational-waves/train/2688e48bd.hdf5'"
      ]
     },
     "execution_count": 2,
     "metadata": {},
     "output_type": "execute_result"
    }
   ],
   "source": [
    "import os\n",
    "\n",
    "train_files = []\n",
    "train_path = \"/kaggle/input/g2net-detecting-continuous-gravitational-waves/train\"\n",
    "for id in train_labels.loc[:,\"id\"]:\n",
    "    filename = id + \".hdf5\"\n",
    "    path = os.path.join(train_path, filename)\n",
    "    train_files.append(path)\n",
    "    \n",
    "train_files[0]"
   ]
  },
  {
   "cell_type": "markdown",
   "id": "3fb23cbb",
   "metadata": {
    "papermill": {
     "duration": 0.009027,
     "end_time": "2022-11-30T20:37:26.374016",
     "exception": false,
     "start_time": "2022-11-30T20:37:26.364989",
     "status": "completed"
    },
    "tags": []
   },
   "source": [
    "# Explore the data"
   ]
  },
  {
   "cell_type": "code",
   "execution_count": 3,
   "id": "82588ab0",
   "metadata": {
    "execution": {
     "iopub.execute_input": "2022-11-30T20:37:26.394729Z",
     "iopub.status.busy": "2022-11-30T20:37:26.393889Z",
     "iopub.status.idle": "2022-11-30T20:37:26.622497Z",
     "shell.execute_reply": "2022-11-30T20:37:26.621160Z"
    },
    "papermill": {
     "duration": 0.241657,
     "end_time": "2022-11-30T20:37:26.624992",
     "exception": false,
     "start_time": "2022-11-30T20:37:26.383335",
     "status": "completed"
    },
    "tags": []
   },
   "outputs": [
    {
     "name": "stdout",
     "output_type": "stream",
     "text": [
      "2688e48bd\n",
      "<KeysViewHDF5 ['H1', 'L1', 'frequency_Hz']>\n",
      "<KeysViewHDF5 ['SFTs', 'timestamps_GPS']>\n",
      "<KeysViewHDF5 ['SFTs', 'timestamps_GPS']>\n",
      "<HDF5 dataset \"frequency_Hz\": shape (360,), type \"<f8\">\n",
      "[306.92055556 306.92111111 306.92166667 306.92222222]\n",
      "<HDF5 dataset \"timestamps_GPS\": shape (4564,), type \"<i8\">\n",
      "1238170479  -  1248546822\n",
      "<HDF5 dataset \"SFTs\": shape (360, 4564), type \"<c8\">\n",
      "[[-4.5731778e-23+1.18721092e-22j  2.8206372e-23-1.11619598e-23j\n",
      "   1.1124856e-22-3.01264718e-23j ... -9.1336872e-23-1.15372359e-22j\n",
      "   4.9273540e-23+8.50121319e-23j -2.2122217e-22+7.59737612e-23j]\n",
      " [-4.5931660e-23-1.34403698e-22j  2.4227980e-23+1.09901059e-22j\n",
      "   1.7774413e-22-1.22264384e-23j ... -9.4565130e-23+2.65873464e-22j\n",
      "  -4.0620313e-23-4.09678061e-23j -7.8723440e-23-4.63299556e-23j]]\n",
      "<HDF5 dataset \"timestamps_GPS\": shape (4646,), type \"<i8\">\n",
      "1238167882  -  1248558232\n",
      "<HDF5 dataset \"SFTs\": shape (360, 4646), type \"<c8\">\n",
      "[[ 2.2248422e-22+5.95424828e-23j -1.1790475e-22-6.16426640e-23j\n",
      "   6.1226429e-23+8.86846644e-23j ... -4.7563437e-23+1.50807625e-22j\n",
      "   1.5231211e-22-3.16075486e-23j -1.2408348e-22+1.00703377e-22j]\n",
      " [ 6.6662400e-23+1.94688158e-23j  1.6869725e-22-5.63161111e-23j\n",
      "   2.3793220e-23-7.21484611e-23j ... -1.3155282e-22-9.33249966e-23j\n",
      "  -2.2897292e-22+7.13257659e-24j  3.4023306e-23-1.00261690e-22j]]\n"
     ]
    }
   ],
   "source": [
    "import h5py\n",
    "file = h5py.File(train_files[0])\n",
    "\n",
    "print(list(file.keys())[0])\n",
    "print(file['2688e48bd'].keys())\n",
    "print(file['2688e48bd']['H1'].keys())\n",
    "print(file['2688e48bd']['L1'].keys())\n",
    "print(file['2688e48bd']['frequency_Hz'])\n",
    "print(file['2688e48bd']['frequency_Hz'][0:4])\n",
    "print(file['2688e48bd']['H1']['timestamps_GPS'])\n",
    "print(file['2688e48bd']['H1']['timestamps_GPS'][0], \" - \", file['2688e48bd']['H1']['timestamps_GPS'][-1])\n",
    "print(file['2688e48bd']['H1']['SFTs'])\n",
    "print(file['2688e48bd']['H1']['SFTs'][0:2])\n",
    "print(file['2688e48bd']['L1']['timestamps_GPS'])\n",
    "print(file['2688e48bd']['L1']['timestamps_GPS'][0], \" - \", file['2688e48bd']['L1']['timestamps_GPS'][-1])\n",
    "print(file['2688e48bd']['L1']['SFTs'])\n",
    "print(file['2688e48bd']['L1']['SFTs'][0:2])"
   ]
  },
  {
   "cell_type": "markdown",
   "id": "3a45463b",
   "metadata": {
    "papermill": {
     "duration": 0.009747,
     "end_time": "2022-11-30T20:37:26.644418",
     "exception": false,
     "start_time": "2022-11-30T20:37:26.634671",
     "status": "completed"
    },
    "tags": []
   },
   "source": [
    "## Load the data into a dataframe"
   ]
  },
  {
   "cell_type": "code",
   "execution_count": 4,
   "id": "cdd25d4b",
   "metadata": {
    "execution": {
     "iopub.execute_input": "2022-11-30T20:37:26.665793Z",
     "iopub.status.busy": "2022-11-30T20:37:26.665056Z",
     "iopub.status.idle": "2022-11-30T20:37:26.679182Z",
     "shell.execute_reply": "2022-11-30T20:37:26.678208Z"
    },
    "papermill": {
     "duration": 0.027669,
     "end_time": "2022-11-30T20:37:26.681605",
     "exception": false,
     "start_time": "2022-11-30T20:37:26.653936",
     "status": "completed"
    },
    "tags": []
   },
   "outputs": [],
   "source": [
    "# https://www.kaggle.com/code/maharshipandya/g2net-data-and-augmentation\n",
    "\n",
    "import numpy as np\n",
    "BASE_DIR = \"/kaggle/input/g2net-detecting-continuous-gravitational-waves/train/\"\n",
    "\n",
    "class SFT2Img:\n",
    "    def __init__(self, labels):\n",
    "        # labels the dataframe of train labels\n",
    "        self.labels = labels\n",
    "            \n",
    "    \n",
    "    def __getitem__(self, index):\n",
    "        # get the file id from dataframe\n",
    "        lab = self.labels.iloc[index]\n",
    "        file_id = lab[\"id\"]\n",
    "        \n",
    "        # this is our label\n",
    "        y = np.float32(lab[\"target\"])\n",
    "        \n",
    "        # SFT tensor for H1 and L1 observatory (128 columns)\n",
    "        img = np.empty((2, 360, 128), dtype=np.float32)\n",
    "        \n",
    "        filename = f\"{file_id}.hdf5\"\n",
    "        with h5py.File(BASE_DIR + filename, 'r') as f:\n",
    "            group = f[file_id]\n",
    "            \n",
    "            for i, obs in enumerate(['H1', 'L1']):\n",
    "                # scaling the fourier transforms (complex64 in nature)\n",
    "                sft = group[obs]['SFTs'][:, :4096] * 1e22\n",
    "                \n",
    "                # magnitude squared\n",
    "                mag = sft.real ** 2 + sft.imag ** 2\n",
    "                \n",
    "                # normalize and reduce 4096 to 128\n",
    "                mag /= np.mean(mag)\n",
    "                mag = np.mean(mag.reshape(360, 128, 32), axis=2)\n",
    "                \n",
    "                # 0 for H1 and 1 for L1\n",
    "                img[i] = mag\n",
    "        \n",
    "        return img, y\n",
    "\n",
    "# Added a minor improvement to flatten images to instance variables\n",
    "# for easier model training\n",
    "class Dataset:\n",
    "    def __init__(self, labels):\n",
    "        self.sft2img = SFT2Img(labels)\n",
    "        # labels the dataframe of train labels\n",
    "        self.labels = self.sft2img.labels\n",
    "        self.H1 = np.ndarray(shape=(0, 360*128))\n",
    "        self.L1 = np.ndarray(shape=(0, 360*128))\n",
    "        self.build_data()\n",
    "        self.H1L1 = np.vstack((self.H1, self.L1))\n",
    "        self.labelsH1L1 = pd.concat([self.labels, self.labels])\n",
    "        \n",
    "    def build_data(self):\n",
    "        for i in range(self.sft2img.labels.target.shape[0]):\n",
    "            img, label = self.sft2img[i]\n",
    "            H1img = np.array(img[0]).flatten()\n",
    "            L1img = np.array(img[1]).flatten()\n",
    "            self.H1 = np.vstack((self.H1, H1img))\n",
    "            self.L1 = np.vstack((self.L1, L1img))\n",
    "        "
   ]
  },
  {
   "cell_type": "code",
   "execution_count": 5,
   "id": "58e0ddaf",
   "metadata": {
    "execution": {
     "iopub.execute_input": "2022-11-30T20:37:26.703093Z",
     "iopub.status.busy": "2022-11-30T20:37:26.702365Z",
     "iopub.status.idle": "2022-11-30T20:41:41.471116Z",
     "shell.execute_reply": "2022-11-30T20:41:41.469418Z"
    },
    "papermill": {
     "duration": 254.801321,
     "end_time": "2022-11-30T20:41:41.492700",
     "exception": false,
     "start_time": "2022-11-30T20:37:26.691379",
     "status": "completed"
    },
    "tags": []
   },
   "outputs": [
    {
     "name": "stdout",
     "output_type": "stream",
     "text": [
      "Shape of the labels:  (420,)\n",
      "Shape of H1:  (420, 46080)\n",
      "Shape of L1:  (420, 46080)\n"
     ]
    }
   ],
   "source": [
    "train_dataset = Dataset(train_labels)\n",
    "test_dataset = Dataset(test_labels)\n",
    "            \n",
    "print(\"Shape of the labels: \", train_dataset.labels.target.shape)\n",
    "print(\"Shape of H1: \", train_dataset.H1.shape)\n",
    "print(\"Shape of L1: \", train_dataset.L1.shape)"
   ]
  },
  {
   "cell_type": "markdown",
   "id": "a089a05c",
   "metadata": {
    "papermill": {
     "duration": 0.011264,
     "end_time": "2022-11-30T20:41:41.514558",
     "exception": false,
     "start_time": "2022-11-30T20:41:41.503294",
     "status": "completed"
    },
    "tags": []
   },
   "source": [
    "## Model Evaluation\n",
    "\n",
    "Simple model evaluation for consistent testing and comparison as we try different approaches"
   ]
  },
  {
   "cell_type": "code",
   "execution_count": 6,
   "id": "5fbb5d00",
   "metadata": {
    "execution": {
     "iopub.execute_input": "2022-11-30T20:41:41.540881Z",
     "iopub.status.busy": "2022-11-30T20:41:41.539533Z",
     "iopub.status.idle": "2022-11-30T20:41:41.561903Z",
     "shell.execute_reply": "2022-11-30T20:41:41.560565Z"
    },
    "papermill": {
     "duration": 0.039521,
     "end_time": "2022-11-30T20:41:41.565076",
     "exception": false,
     "start_time": "2022-11-30T20:41:41.525555",
     "status": "completed"
    },
    "tags": []
   },
   "outputs": [],
   "source": [
    "class Performance():\n",
    "    def __init__(self, model, dataset, H1=True, L1=True):\n",
    "        self.truePos = 0\n",
    "        self.trueNeg = 0\n",
    "        self.falsePos = 0\n",
    "        self.falseNeg = 0\n",
    "        self.precision = 0\n",
    "        self.recall = 0\n",
    "        self.harmonicMean = 0\n",
    "        self.model = model\n",
    "        self.dataset = dataset\n",
    "        self.H1 = H1\n",
    "        self.L1 = L1\n",
    "        self.calculate()\n",
    "        \n",
    "    def predict_scores(self):\n",
    "        for i in range(self.dataset.labels.target.shape[0]):\n",
    "            actual = self.dataset.labels.target.iloc[i]\n",
    "            if self.H1:\n",
    "                predictedI = self.model.predict([self.dataset.H1[i]])\n",
    "                self.compare_scores(predictedI, actual)\n",
    "            if self.L1:\n",
    "                predictedL = self.model.predict([self.dataset.L1[i]])\n",
    "                self.compare_scores(predictedL, actual)\n",
    "        \n",
    "    def compare_scores(self, predicted, actual):\n",
    "        if predicted == actual:\n",
    "            if predicted >= 0.5:\n",
    "                self.truePos += 1\n",
    "            elif predicted < 0.5:\n",
    "                self.trueNeg += 1\n",
    "            else:\n",
    "                print(\"Not sure what to do with \", predicted, \" and \", actual)\n",
    "        else:\n",
    "            if predicted >= 0.5:\n",
    "                self.falsePos += 1\n",
    "            elif predicted < 0.5:\n",
    "                self.falseNeg += 1\n",
    "            else:\n",
    "                print(\"Not sure what to do with \", predicted, \" and \", actual) \n",
    "        return\n",
    "        # Fill this in later, compare each score to tally TP/FP/TN/FN\n",
    "\n",
    "    # Precision: TP / (TP + FP)        \n",
    "    def calculate_precision(self):\n",
    "        self.precision = self.truePos / ( self.truePos + self.falsePos)\n",
    "        return self.precision\n",
    "\n",
    "    # Recall: TP / (TP + FN)\n",
    "    def calculate_recall(self):\n",
    "        self.recall = self.truePos / ( self.truePos + self.falseNeg)\n",
    "        return self.recall\n",
    "    \n",
    "    # Harmonic Mean: F1 = TP / (TP + ((FN + FP)/ 2) ) = 2 * ( (Precision * Recall) / (Precision + Recall) )\n",
    "    def calculate_harmonic_mean(self):\n",
    "        self.harmonicMean = 2 * ( (self.precision * self.recall) / (self.precision + self.recall) )\n",
    "        return self.harmonicMean\n",
    "    \n",
    "    # Print the results\n",
    "    def get_results(self):\n",
    "        print(\"True Positives: \", self.truePos)\n",
    "        print(\"True Negatives: \", self.trueNeg)\n",
    "        print(\"False Positives: \", self.falsePos)\n",
    "        print(\"False Negatives: \", self.falseNeg)\n",
    "        print(\"Precision: \", self.precision)\n",
    "        print(\"Recall: \", self.recall)\n",
    "        print(\"Harmonic Mean: \", self.harmonicMean)\n",
    "        \n",
    "    # Calculate pipeline\n",
    "    def calculate(self):\n",
    "        self.predict_scores()\n",
    "        self.calculate_precision()\n",
    "        self.calculate_recall()\n",
    "        self.calculate_harmonic_mean()\n",
    "        self.get_results()   "
   ]
  },
  {
   "cell_type": "markdown",
   "id": "006eee38",
   "metadata": {
    "papermill": {
     "duration": 0.010085,
     "end_time": "2022-11-30T20:41:41.585772",
     "exception": false,
     "start_time": "2022-11-30T20:41:41.575687",
     "status": "completed"
    },
    "tags": []
   },
   "source": [
    "# Train Machine Learning Models\n",
    "\n",
    "There's a lot of data engineering we can try with this in terms of data transformations, data alignment and normalization, selectively excluding data, etc.\n",
    "But first, let's take a naive approach and see how a few basic models fare.\n",
    "That way we can see if future optimizations work and how well."
   ]
  },
  {
   "cell_type": "markdown",
   "id": "da75c9e8",
   "metadata": {
    "papermill": {
     "duration": 0.010503,
     "end_time": "2022-11-30T20:41:41.606437",
     "exception": false,
     "start_time": "2022-11-30T20:41:41.595934",
     "status": "completed"
    },
    "tags": []
   },
   "source": [
    "## Train a basic Stoachastic Gradient Descent Classifier model"
   ]
  },
  {
   "cell_type": "code",
   "execution_count": 7,
   "id": "712024a8",
   "metadata": {
    "execution": {
     "iopub.execute_input": "2022-11-30T20:41:41.629812Z",
     "iopub.status.busy": "2022-11-30T20:41:41.629360Z",
     "iopub.status.idle": "2022-11-30T20:41:42.475404Z",
     "shell.execute_reply": "2022-11-30T20:41:42.473807Z"
    },
    "papermill": {
     "duration": 0.863241,
     "end_time": "2022-11-30T20:41:42.480234",
     "exception": false,
     "start_time": "2022-11-30T20:41:41.616993",
     "status": "completed"
    },
    "tags": []
   },
   "outputs": [
    {
     "name": "stdout",
     "output_type": "stream",
     "text": [
      "~~~\n",
      "Train H1:\n",
      "~~~\n",
      "True Positives:  279\n",
      "True Negatives:  141\n",
      "False Positives:  0\n",
      "False Negatives:  0\n",
      "Precision:  1.0\n",
      "Recall:  1.0\n",
      "Harmonic Mean:  1.0\n",
      "~~~\n",
      "Test H1:\n",
      "~~~\n",
      "True Positives:  57\n",
      "True Negatives:  30\n",
      "False Positives:  29\n",
      "False Negatives:  64\n",
      "Precision:  0.6627906976744186\n",
      "Recall:  0.47107438016528924\n",
      "Harmonic Mean:  0.5507246376811594\n",
      "~~~\n",
      "Test L1:\n",
      "~~~\n",
      "True Positives:  56\n",
      "True Negatives:  29\n",
      "False Positives:  30\n",
      "False Negatives:  65\n",
      "Precision:  0.6511627906976745\n",
      "Recall:  0.4628099173553719\n",
      "Harmonic Mean:  0.5410628019323672\n"
     ]
    },
    {
     "data": {
      "text/plain": [
       "<__main__.Performance at 0x7f6aad566690>"
      ]
     },
     "execution_count": 7,
     "metadata": {},
     "output_type": "execute_result"
    }
   ],
   "source": [
    "from sklearn.linear_model import SGDClassifier\n",
    "import numpy as np\n",
    "\n",
    "#sgd stands for stochastic gradient descent (read more about GSD https://medium.com/@lachlanmiller_52885/machine-learning-week-1-cost-function-gradient-descent-and-univariate-linear-regression-8f5fe69815fd)\n",
    "#clf stands for classifier\n",
    "sgd_clf = SGDClassifier(max_iter=5, tol=-np.infty, random_state=42)\n",
    "sgd_clf.fit(train_dataset.H1, train_dataset.labels.target)\n",
    "\n",
    "print(\"~~~\")\n",
    "print(\"Train H1:\")\n",
    "print(\"~~~\")\n",
    "Performance(sgd_clf, train_dataset, True, False)\n",
    "print(\"~~~\")\n",
    "print(\"Test H1:\")\n",
    "print(\"~~~\")\n",
    "Performance(sgd_clf, test_dataset, True, False)\n",
    "print(\"~~~\")\n",
    "print(\"Test L1:\")\n",
    "print(\"~~~\")\n",
    "Performance(sgd_clf, test_dataset, False, True)"
   ]
  },
  {
   "cell_type": "markdown",
   "id": "673e9b31",
   "metadata": {
    "papermill": {
     "duration": 0.024736,
     "end_time": "2022-11-30T20:41:42.531597",
     "exception": false,
     "start_time": "2022-11-30T20:41:42.506861",
     "status": "completed"
    },
    "tags": []
   },
   "source": [
    "## Train a Support Vector Machine classifier model"
   ]
  },
  {
   "cell_type": "code",
   "execution_count": 8,
   "id": "7783da78",
   "metadata": {
    "execution": {
     "iopub.execute_input": "2022-11-30T20:41:42.586032Z",
     "iopub.status.busy": "2022-11-30T20:41:42.585299Z",
     "iopub.status.idle": "2022-11-30T20:41:48.740954Z",
     "shell.execute_reply": "2022-11-30T20:41:48.739226Z"
    },
    "papermill": {
     "duration": 6.188633,
     "end_time": "2022-11-30T20:41:48.745973",
     "exception": false,
     "start_time": "2022-11-30T20:41:42.557340",
     "status": "completed"
    },
    "tags": []
   },
   "outputs": [
    {
     "name": "stdout",
     "output_type": "stream",
     "text": [
      "[1 1 1 1 1 1 1 1 1 1 1 1 1 1 1 1 1 1 1 1 1 1 1 1 1 1 1 1 1 1 1 1 1 1 1 1 1\n",
      " 1 1 1 1 1 1 1 1 1 1 1 1 1 1 1 1 1 1 1 1 1 1 1 1 1 1 1 1 1 1 1 1 1 1 1 1 1\n",
      " 1 1 1 1 1 1 1 1 1 1 1 1 1 1 1 1 1 1 1 1 1 1 1 1 1 1 1 1 1 1 1 1 1 1 1 1 1\n",
      " 1 1 1 1 1 1 1 1 1 1 1 1 1 1 1 1 1 1 1 1 1 1 1 1 1 1 1 1 1 1 1 1 1 1 1 1 1\n",
      " 1 1 1 1 1 1 1 1 1 1 1 1 1 1 1 1 1 1 1 1 1 1 1 1 1 1 1 1 1 1 1 1]\n",
      "0.6722222222222223\n",
      "1.0\n"
     ]
    }
   ],
   "source": [
    "from sklearn.svm import SVC\n",
    "from sklearn.metrics import precision_score, recall_score\n",
    "\n",
    "svm_clf = SVC(kernel=\"poly\",degree=3, C=float(\"inf\"), coef0=1)\n",
    "svm_clf.fit(train_dataset.H1, train_dataset.labels.target)\n",
    "\n",
    "# print(svm_clf.predict(train_dataset.H1))\n",
    "test_pred = svm_clf.predict(test_dataset.H1)\n",
    "print(test_pred)\n",
    "\n",
    "print(precision_score(test_dataset.labels.target, test_pred))\n",
    "print(recall_score(test_dataset.labels.target, test_pred))\n",
    "# Assigns 1 to everything"
   ]
  },
  {
   "cell_type": "markdown",
   "id": "14abc059",
   "metadata": {
    "papermill": {
     "duration": 0.02529,
     "end_time": "2022-11-30T20:41:48.795458",
     "exception": false,
     "start_time": "2022-11-30T20:41:48.770168",
     "status": "completed"
    },
    "tags": []
   },
   "source": [
    "## Train a Random Forest classifier Model"
   ]
  },
  {
   "cell_type": "code",
   "execution_count": 9,
   "id": "0afb9646",
   "metadata": {
    "execution": {
     "iopub.execute_input": "2022-11-30T20:41:48.850883Z",
     "iopub.status.busy": "2022-11-30T20:41:48.850136Z",
     "iopub.status.idle": "2022-11-30T20:42:03.630984Z",
     "shell.execute_reply": "2022-11-30T20:42:03.629322Z"
    },
    "papermill": {
     "duration": 14.810945,
     "end_time": "2022-11-30T20:42:03.633851",
     "exception": false,
     "start_time": "2022-11-30T20:41:48.822906",
     "status": "completed"
    },
    "tags": []
   },
   "outputs": [
    {
     "name": "stdout",
     "output_type": "stream",
     "text": [
      "[1 1 1 1 1 1 1 1 1 1 1 1 1 1 1 1 1 1 1 1 1 1 1 1 1 1 1 1 1 1 1 1 1 1 1 1 1\n",
      " 1 1 1 1 1 1 1 1 1 1 1 1 1 1 1 1 1 1 1 1 1 1 1 1 1 1 1 1 1 1 1 1 1 1 1 1 1\n",
      " 1 1 1 1 1 1 1 1 1 1 1 1 1 1 1 1 1 1 1 1 1 1 1 1 1 1 1 1 1 1 1 1 1 1 1 1 1\n",
      " 1 1 1 1 1 1 1 1 1 1 1 1 1 1 1 1 1 1 1 1 1 1 1 1 1 1 1 1 1 1 1 1 1 1 1 1 1\n",
      " 1 1 1 1 1 1 1 1 1 1 1 1 1 1 1 1 1 1 1 1 1 1 1 1 1 1 1 1 1 1 1 1 1 1 1 1 1\n",
      " 1 1 1 1 1 1 1 1 1 1 1 1 1 1 1 1 1 1 1 1 1 1 1 1 1 1 1 1 1 1 1 1 1 1 1 1 1\n",
      " 1 1 1 1 1 1 1 1 1 1 1 1 1 1 1 1 1 1 1 1 1 1 1 1 1 1 1 1 1 1 1 1 1 1 1 1 1\n",
      " 1 1 1 1 1 1 1 1 1 1 1 1 1 1 1 1 1 1 1 1 1 1 1 1 1 1 1 1 1 1 1 1 1 1 1 1 1\n",
      " 1 1 1 1 1 1 1 1 1 1 1 1 1 1 1 1 1 1 1 1 1 1 1 1 1 1 1 1 1 1 1 1 1 1 1 1 1\n",
      " 1 1 1 1 1 1 1 1 1 1 1 1 1 1 1 1 1 1 1 1 1 1 1 1 1 1 1]\n",
      "Accuracy of RF classifier on train dataset is: 0.794047619047619\n",
      "Accuracy of RF classifier on test dataset is: 0.6722222222222223\n"
     ]
    }
   ],
   "source": [
    "from sklearn.ensemble import RandomForestClassifier\n",
    "from sklearn.metrics import accuracy_score\n",
    "\n",
    "rnd_clf = RandomForestClassifier(n_estimators=500, max_leaf_nodes=16, n_jobs=-1, random_state=42)\n",
    "rnd_clf.fit(train_dataset.H1L1, train_dataset.labelsH1L1.target)\n",
    "\n",
    "y_pred_rf = rnd_clf.predict(test_dataset.H1L1)\n",
    "print(y_pred_rf)\n",
    "\n",
    "print(\"Accuracy of RF classifier on train dataset is:\",accuracy_score(train_dataset.labelsH1L1.target, rnd_clf.predict(train_dataset.H1L1)))\n",
    "print(\"Accuracy of RF classifier on test dataset is:\",accuracy_score(test_dataset.labelsH1L1.target, y_pred_rf))\n",
    "# Assigns 1 to everything"
   ]
  },
  {
   "attachments": {
    "d73d02f1-8f3b-4495-b21f-083e0e5de856.png": {
     "image/png": "[encoded data removed]"
    }
   },
   "cell_type": "markdown",
   "id": "eb4a5b24",
   "metadata": {
    "papermill": {
     "duration": 0.009688,
     "end_time": "2022-11-30T20:42:03.653997",
     "exception": false,
     "start_time": "2022-11-30T20:42:03.644309",
     "status": "completed"
    },
    "tags": []
   },
   "source": [
    "## Train a neural network \n",
    "![image.png](attachment:d73d02f1-8f3b-4495-b21f-083e0e5de856.png)\n",
    "\n",
    "Let's start with a 2 node softmax function"
   ]
  },
  {
   "cell_type": "code",
   "execution_count": 10,
   "id": "d143cdfc",
   "metadata": {
    "execution": {
     "iopub.execute_input": "2022-11-30T20:42:03.677055Z",
     "iopub.status.busy": "2022-11-30T20:42:03.676623Z",
     "iopub.status.idle": "2022-11-30T20:42:40.023335Z",
     "shell.execute_reply": "2022-11-30T20:42:40.022075Z"
    },
    "papermill": {
     "duration": 36.362251,
     "end_time": "2022-11-30T20:42:40.026339",
     "exception": false,
     "start_time": "2022-11-30T20:42:03.664088",
     "status": "completed"
    },
    "tags": []
   },
   "outputs": [
    {
     "name": "stderr",
     "output_type": "stream",
     "text": [
      "2022-11-30 20:42:10.454827: I tensorflow/core/common_runtime/process_util.cc:146] Creating new thread pool with default inter op setting: 2. Tune using inter_op_parallelism_threads for best performance.\n",
      "2022-11-30 20:42:11.238576: I tensorflow/compiler/mlir/mlir_graph_optimization_pass.cc:185] None of the MLIR Optimization Passes are enabled (registered 2)\n"
     ]
    },
    {
     "name": "stdout",
     "output_type": "stream",
     "text": [
      "Epoch 1/10\n",
      "14/14 [==============================] - 2s 118ms/step - loss: 0.7349 - accuracy: 0.6310 - val_loss: 0.6391 - val_accuracy: 0.6722\n",
      "Epoch 2/10\n",
      "14/14 [==============================] - 1s 98ms/step - loss: 0.6434 - accuracy: 0.6643 - val_loss: 0.6720 - val_accuracy: 0.6500\n",
      "Epoch 3/10\n",
      "14/14 [==============================] - 1s 96ms/step - loss: 0.6526 - accuracy: 0.6643 - val_loss: 0.6391 - val_accuracy: 0.6722\n",
      "Epoch 4/10\n",
      "14/14 [==============================] - 1s 96ms/step - loss: 0.6408 - accuracy: 0.6643 - val_loss: 0.6699 - val_accuracy: 0.6667\n",
      "Epoch 5/10\n",
      "14/14 [==============================] - 1s 96ms/step - loss: 0.6420 - accuracy: 0.6310 - val_loss: 0.6349 - val_accuracy: 0.6722\n",
      "Epoch 6/10\n",
      "14/14 [==============================] - 1s 98ms/step - loss: 0.6475 - accuracy: 0.6643 - val_loss: 0.6448 - val_accuracy: 0.6722\n",
      "Epoch 7/10\n",
      "14/14 [==============================] - 1s 95ms/step - loss: 0.6374 - accuracy: 0.6643 - val_loss: 0.6310 - val_accuracy: 0.6722\n",
      "Epoch 8/10\n",
      "14/14 [==============================] - 1s 98ms/step - loss: 0.6328 - accuracy: 0.6643 - val_loss: 0.6456 - val_accuracy: 0.6722\n",
      "Epoch 9/10\n",
      "14/14 [==============================] - 1s 100ms/step - loss: 0.6423 - accuracy: 0.6667 - val_loss: 0.6496 - val_accuracy: 0.6722\n",
      "Epoch 10/10\n",
      "14/14 [==============================] - 1s 96ms/step - loss: 0.6242 - accuracy: 0.6643 - val_loss: 0.7169 - val_accuracy: 0.6722\n",
      "6/6 [==============================] - 0s 35ms/step - loss: 0.7169 - accuracy: 0.6722\n",
      "Epoch 1/10\n",
      "14/14 [==============================] - 1s 98ms/step - loss: 0.6500 - accuracy: 0.6643 - val_loss: 0.6517 - val_accuracy: 0.6722\n",
      "Epoch 2/10\n",
      "14/14 [==============================] - 1s 94ms/step - loss: 0.6245 - accuracy: 0.6643 - val_loss: 0.6463 - val_accuracy: 0.6722\n",
      "Epoch 3/10\n",
      "14/14 [==============================] - 1s 97ms/step - loss: 0.6433 - accuracy: 0.6738 - val_loss: 0.6335 - val_accuracy: 0.6722\n",
      "Epoch 4/10\n",
      "14/14 [==============================] - 1s 96ms/step - loss: 0.6261 - accuracy: 0.6643 - val_loss: 0.8162 - val_accuracy: 0.6722\n",
      "Epoch 5/10\n",
      "14/14 [==============================] - 1s 94ms/step - loss: 0.6396 - accuracy: 0.6667 - val_loss: 0.6833 - val_accuracy: 0.6056\n",
      "Epoch 6/10\n",
      "14/14 [==============================] - 1s 97ms/step - loss: 0.6411 - accuracy: 0.6548 - val_loss: 0.7414 - val_accuracy: 0.6722\n",
      "Epoch 7/10\n",
      "14/14 [==============================] - 1s 98ms/step - loss: 0.6358 - accuracy: 0.6643 - val_loss: 0.6318 - val_accuracy: 0.6722\n",
      "Epoch 8/10\n",
      "14/14 [==============================] - 1s 96ms/step - loss: 0.6410 - accuracy: 0.6500 - val_loss: 0.6373 - val_accuracy: 0.6722\n",
      "Epoch 9/10\n",
      "14/14 [==============================] - 1s 94ms/step - loss: 0.6137 - accuracy: 0.6643 - val_loss: 0.8824 - val_accuracy: 0.6722\n",
      "Epoch 10/10\n",
      "14/14 [==============================] - 1s 94ms/step - loss: 0.6661 - accuracy: 0.6452 - val_loss: 0.7994 - val_accuracy: 0.3278\n",
      "6/6 [==============================] - 0s 36ms/step - loss: 0.7994 - accuracy: 0.3278\n"
     ]
    },
    {
     "data": {
      "image/png": "[encoded data removed]",
      "text/plain": [
       "<Figure size 576x360 with 1 Axes>"
      ]
     },
     "metadata": {
      "needs_background": "light"
     },
     "output_type": "display_data"
    }
   ],
   "source": [
    "import tensorflow as tf\n",
    "from tensorflow import keras  # tf.keras\n",
    "import matplotlib as mpl\n",
    "import matplotlib.pyplot as plt\n",
    "\n",
    "nn_clf = keras.models.Sequential([\n",
    "    keras.layers.Flatten(input_shape=[46080]),\n",
    "    keras.layers.Dense(900, activation=\"relu\"),\n",
    "    keras.layers.Dense(400, activation=\"relu\"),\n",
    "    keras.layers.Dense(300, activation=\"relu\"),\n",
    "    keras.layers.Dense(100, activation=\"relu\"),\n",
    "    keras.layers.Dense(2, activation=\"softmax\")\n",
    "])\n",
    "\n",
    "nn_clf.compile(loss=\"sparse_categorical_crossentropy\",\n",
    "              optimizer=keras.optimizers.SGD(learning_rate=1e-3),\n",
    "              metrics=[\"accuracy\"])\n",
    "\n",
    "# Round 1\n",
    "history = nn_clf.fit(train_dataset.H1, train_dataset.labels.target, epochs=10,\n",
    "                    validation_data=(test_dataset.H1, test_dataset.labels.target))\n",
    "\n",
    "nn_clf.evaluate(test_dataset.H1, test_dataset.labels.target)\n",
    "\n",
    "# Round 2\n",
    "history = nn_clf.fit(train_dataset.H1, train_dataset.labels.target, epochs=10,\n",
    "                    validation_data=(test_dataset.H1, test_dataset.labels.target))\n",
    "\n",
    "nn_clf.evaluate(test_dataset.H1, test_dataset.labels.target)\n",
    "\n",
    "def plot_learning_curves(history):\n",
    "    pd.DataFrame(history.history).plot(figsize=(8, 5))\n",
    "    plt.grid(True)\n",
    "    plt.gca().set_xlim(0, 1)\n",
    "    plt.gca().set_ylim(0, 1)\n",
    "    plt.show()\n",
    "plot_learning_curves(history)"
   ]
  },
  {
   "cell_type": "code",
   "execution_count": 11,
   "id": "d6a36f4f",
   "metadata": {
    "execution": {
     "iopub.execute_input": "2022-11-30T20:42:40.087203Z",
     "iopub.status.busy": "2022-11-30T20:42:40.086771Z",
     "iopub.status.idle": "2022-11-30T20:42:41.032771Z",
     "shell.execute_reply": "2022-11-30T20:42:41.031453Z"
    },
    "papermill": {
     "duration": 0.9801,
     "end_time": "2022-11-30T20:42:41.035982",
     "exception": false,
     "start_time": "2022-11-30T20:42:40.055882",
     "status": "completed"
    },
    "tags": []
   },
   "outputs": [
    {
     "name": "stdout",
     "output_type": "stream",
     "text": [
      "[0 0 0 0 0 0 0 0 0 0 0 0 0 0 0 0 0 0 0 0 0 0 0 0 0 0 0 0 0 0 0 0 0 0 0 0 0\n",
      " 0 0 0 0 0 0 0 0 0 0 0 0 0 0 0 0 0 0 0 0 0 0 0 0 0 0 0 0 0 0 0 0 0 0 0 0 0\n",
      " 0 0 0 0 0 0 0 0 0 0 0 0 0 0 0 0 0 0 0 0 0 0 0 0 0 0 0 0 0 0 0 0 0 0 0 0 0\n",
      " 0 0 0 0 0 0 0 0 0 0 0 0 0 0 0 0 0 0 0 0 0 0 0 0 0 0 0 0 0 0 0 0 0 0 0 0 0\n",
      " 0 0 0 0 0 0 0 0 0 0 0 0 0 0 0 0 0 0 0 0 0 0 0 0 0 0 0 0 0 0 0 0 0 0 0 0 0\n",
      " 0 0 0 0 0 0 0 0 0 0 0 0 0 0 0 0 0 0 0 0 0 0 0 0 0 0 0 0 0 0 0 0 0 0 0 0 0\n",
      " 0 0 0 0 0 0 0 0 0 0 0 0 0 0 0 0 0 0 0 0 0 0 0 0 0 0 0 0 0 0 0 0 0 0 0 0 0\n",
      " 0 0 0 0 0 0 0 0 0 0 0 0 0 0 0 0 0 0 0 0 0 0 0 0 0 0 0 0 0 0 0 0 0 0 0 0 0\n",
      " 0 0 0 0 0 0 0 0 0 0 0 0 0 0 0 0 0 0 0 0 0 0 0 0 0 0 0 0 0 0 0 0 0 0 0 0 0\n",
      " 0 0 0 0 0 0 0 0 0 0 0 0 0 0 0 0 0 0 0 0 0 0 0 0 0 0 0 0 0 0 0 0 0 0 0 0 0\n",
      " 0 0 0 0 0 0 0 0 0 0 0 0 0 0 0 0 0 0 0 0 0 0 0 0 0 0 0 0 0 0 0 0 0 0 0 0 0\n",
      " 0 0 0 0 0 0 0 0 0 0 0 0 0]\n",
      "[0 0 0 0 0 0 0 0 0 0 0 0 0 0 0 0 0 0 0 0 0 0 0 0 0 0 0 0 0 0 0 0 0 0 0 0 0\n",
      " 0 0 0 0 0 0 0 0 0 0 0 0 0 0 0 0 0 0 0 0 0 0 0 0 0 0 0 0 0 0 0 0 0 0 0 0 0\n",
      " 0 0 0 0 0 0 0 0 0 0 0 0 0 0 0 0 0 0 0 0 0 0 0 0 0 0 0 0 0 0 0 0 0 0 0 0 0\n",
      " 0 0 0 0 0 0 0 0 0 0 0 0 0 0 0 0 0 0 0 0 0 0 0 0 0 0 0 0 0 0 0 0 0 0 0 0 0\n",
      " 0 0 0 0 0 0 0 0 0 0 0 0 0 0 0 0 0 0 0 0 0 0 0 0 0 0 0 0 0 0 0 0]\n",
      "[0.61 0.6  0.64 0.62 0.6  0.61 0.61 0.63 0.63 0.59 0.61 0.6  0.63 0.63\n",
      " 0.6  0.64 0.64 0.6  0.64 0.61 0.63 0.59 0.65 0.62 0.63 0.64 0.63 0.63\n",
      " 0.6  0.6  0.61 0.61 0.64 0.61 0.59 0.62 0.6  0.64 0.6  0.62 0.63 0.61\n",
      " 0.61 0.63 0.62 0.65 0.61 0.61 0.62 0.63 0.64 0.61 0.64 0.62 0.62 0.58\n",
      " 0.62 0.62 0.62 0.61 0.64 0.62 0.61 0.6  0.63 0.6  0.66 0.63 0.63 0.64\n",
      " 0.64 0.63 0.6  0.58 0.62 0.62 0.63 0.63 0.63 0.58 0.6  0.63 0.63 0.6\n",
      " 0.61 0.61 0.62 0.62 0.63 0.61 0.6  0.62 0.64 0.64 0.6  0.63 0.6  0.63\n",
      " 0.59 0.62 0.62 0.62 0.61 0.59 0.62 0.62 0.63 0.61 0.62 0.62 0.59 0.63\n",
      " 0.62 0.63 0.62 0.64 0.61 0.63 0.64 0.63 0.63 0.63 0.62 0.64 0.6  0.61\n",
      " 0.65 0.6  0.63 0.61 0.65 0.64 0.63 0.61 0.6  0.63 0.62 0.62 0.58 0.62\n",
      " 0.63 0.61 0.61 0.63 0.62 0.63 0.62 0.6  0.62 0.59 0.62 0.6  0.6  0.6\n",
      " 0.64 0.63 0.62 0.62 0.6  0.61 0.63 0.59 0.6  0.64 0.62 0.63 0.61 0.6\n",
      " 0.59 0.62 0.62 0.6  0.61 0.61 0.62 0.62 0.65 0.61 0.61 0.62]\n"
     ]
    }
   ],
   "source": [
    "train_proba = nn_clf.predict([train_dataset.H1])\n",
    "test_proba = nn_clf.predict([test_dataset.H1])\n",
    "print(train_proba.argmax(axis=1))\n",
    "print(test_proba.argmax(axis=1))\n",
    "print(test_proba.max(axis=1).round(2))\n",
    "# So it's predicting 1 for every single answer. That's no good."
   ]
  },
  {
   "cell_type": "markdown",
   "id": "751afd7e",
   "metadata": {
    "papermill": {
     "duration": 0.029804,
     "end_time": "2022-11-30T20:42:41.095500",
     "exception": false,
     "start_time": "2022-11-30T20:42:41.065696",
     "status": "completed"
    },
    "tags": []
   },
   "source": [
    "## Neural network with Sigmoid Function"
   ]
  },
  {
   "cell_type": "code",
   "execution_count": 12,
   "id": "a950da39",
   "metadata": {
    "execution": {
     "iopub.execute_input": "2022-11-30T20:42:41.156315Z",
     "iopub.status.busy": "2022-11-30T20:42:41.155432Z",
     "iopub.status.idle": "2022-11-30T20:43:10.202160Z",
     "shell.execute_reply": "2022-11-30T20:43:10.200722Z"
    },
    "papermill": {
     "duration": 29.080387,
     "end_time": "2022-11-30T20:43:10.205079",
     "exception": false,
     "start_time": "2022-11-30T20:42:41.124692",
     "status": "completed"
    },
    "tags": []
   },
   "outputs": [
    {
     "name": "stdout",
     "output_type": "stream",
     "text": [
      "Epoch 1/10\n",
      "14/14 [==============================] - 2s 138ms/step - loss: 0.6932 - accuracy: 0.6310 - val_loss: 0.6362 - val_accuracy: 0.6722\n",
      "Epoch 2/10\n",
      "14/14 [==============================] - 1s 96ms/step - loss: 0.6490 - accuracy: 0.6643 - val_loss: 0.6270 - val_accuracy: 0.6722\n",
      "Epoch 3/10\n",
      "14/14 [==============================] - 1s 99ms/step - loss: 0.6354 - accuracy: 0.6643 - val_loss: 0.7827 - val_accuracy: 0.6722\n",
      "Epoch 4/10\n",
      "14/14 [==============================] - 1s 95ms/step - loss: 0.6602 - accuracy: 0.6643 - val_loss: 0.7249 - val_accuracy: 0.3333\n",
      "Epoch 5/10\n",
      "14/14 [==============================] - 1s 95ms/step - loss: 0.6517 - accuracy: 0.6262 - val_loss: 0.6914 - val_accuracy: 0.6722\n",
      "Epoch 6/10\n",
      "14/14 [==============================] - 1s 95ms/step - loss: 0.6428 - accuracy: 0.6643 - val_loss: 0.6367 - val_accuracy: 0.6722\n",
      "Epoch 7/10\n",
      "14/14 [==============================] - 1s 94ms/step - loss: 0.6366 - accuracy: 0.6643 - val_loss: 0.6562 - val_accuracy: 0.6722\n",
      "Epoch 8/10\n",
      "14/14 [==============================] - 1s 97ms/step - loss: 0.6358 - accuracy: 0.6643 - val_loss: 0.9569 - val_accuracy: 0.3278\n",
      "Epoch 9/10\n",
      "14/14 [==============================] - 1s 95ms/step - loss: 0.6796 - accuracy: 0.6286 - val_loss: 0.6347 - val_accuracy: 0.6722\n",
      "Epoch 10/10\n",
      "14/14 [==============================] - 1s 95ms/step - loss: 0.6323 - accuracy: 0.6643 - val_loss: 0.6893 - val_accuracy: 0.6722\n",
      "6/6 [==============================] - 0s 35ms/step - loss: 0.6893 - accuracy: 0.6722\n",
      "Epoch 1/10\n",
      "14/14 [==============================] - 1s 103ms/step - loss: 0.6448 - accuracy: 0.6643 - val_loss: 0.7095 - val_accuracy: 0.3444\n",
      "Epoch 2/10\n",
      "14/14 [==============================] - 1s 96ms/step - loss: 0.6471 - accuracy: 0.6167 - val_loss: 0.7117 - val_accuracy: 0.3278\n",
      "Epoch 3/10\n",
      "14/14 [==============================] - 1s 95ms/step - loss: 0.6315 - accuracy: 0.6476 - val_loss: 0.6413 - val_accuracy: 0.6722\n",
      "Epoch 4/10\n",
      "14/14 [==============================] - 1s 96ms/step - loss: 0.6288 - accuracy: 0.6643 - val_loss: 0.6516 - val_accuracy: 0.6722\n",
      "Epoch 5/10\n",
      "14/14 [==============================] - 1s 94ms/step - loss: 0.6278 - accuracy: 0.6643 - val_loss: 0.6373 - val_accuracy: 0.6722\n",
      "Epoch 6/10\n",
      "14/14 [==============================] - 1s 95ms/step - loss: 0.6248 - accuracy: 0.6643 - val_loss: 0.6408 - val_accuracy: 0.6722\n",
      "Epoch 7/10\n",
      "14/14 [==============================] - 1s 95ms/step - loss: 0.6251 - accuracy: 0.6643 - val_loss: 0.6382 - val_accuracy: 0.6722\n",
      "Epoch 8/10\n",
      "14/14 [==============================] - 1s 94ms/step - loss: 0.6346 - accuracy: 0.6643 - val_loss: 0.6376 - val_accuracy: 0.6722\n",
      "Epoch 9/10\n",
      "14/14 [==============================] - 1s 97ms/step - loss: 0.6277 - accuracy: 0.6643 - val_loss: 0.6407 - val_accuracy: 0.6722\n",
      "Epoch 10/10\n",
      "14/14 [==============================] - 1s 95ms/step - loss: 0.6229 - accuracy: 0.6643 - val_loss: 0.6363 - val_accuracy: 0.6722\n",
      "6/6 [==============================] - 0s 35ms/step - loss: 0.6363 - accuracy: 0.6722\n"
     ]
    },
    {
     "data": {
      "image/png": "[encoded data removed]",
      "text/plain": [
       "<Figure size 576x360 with 1 Axes>"
      ]
     },
     "metadata": {
      "needs_background": "light"
     },
     "output_type": "display_data"
    }
   ],
   "source": [
    "nn_clf = keras.models.Sequential([\n",
    "    keras.layers.Flatten(input_shape=[46080]),\n",
    "    keras.layers.Dense(900, activation=\"relu\"),\n",
    "    keras.layers.Dense(400, activation=\"relu\"),\n",
    "    keras.layers.Dense(300, activation=\"relu\"),\n",
    "    keras.layers.Dense(100, activation=\"relu\"),\n",
    "    keras.layers.Dense(1, activation=\"sigmoid\")\n",
    "])\n",
    "\n",
    "nn_clf.compile(loss=\"binary_crossentropy\",\n",
    "              optimizer=keras.optimizers.SGD(learning_rate=1e-3),\n",
    "              metrics=[\"accuracy\"])\n",
    "\n",
    "# Round 1\n",
    "history = nn_clf.fit(train_dataset.H1, train_dataset.labels.target, epochs=10,\n",
    "                    validation_data=(test_dataset.H1, test_dataset.labels.target))\n",
    "\n",
    "nn_clf.evaluate(test_dataset.H1, test_dataset.labels.target)\n",
    "\n",
    "# Round 2\n",
    "history = nn_clf.fit(train_dataset.H1, train_dataset.labels.target, epochs=10,\n",
    "                    validation_data=(test_dataset.H1, test_dataset.labels.target))\n",
    "\n",
    "nn_clf.evaluate(test_dataset.H1, test_dataset.labels.target)\n",
    "\n",
    "def plot_learning_curves(history):\n",
    "    pd.DataFrame(history.history).plot(figsize=(8, 5))\n",
    "    plt.grid(True)\n",
    "    plt.gca().set_xlim(0, 1)\n",
    "    plt.gca().set_ylim(0, 1)\n",
    "    plt.show()\n",
    "plot_learning_curves(history)"
   ]
  },
  {
   "cell_type": "code",
   "execution_count": 13,
   "id": "21574fb2",
   "metadata": {
    "execution": {
     "iopub.execute_input": "2022-11-30T20:43:10.308299Z",
     "iopub.status.busy": "2022-11-30T20:43:10.307534Z",
     "iopub.status.idle": "2022-11-30T20:43:10.641603Z",
     "shell.execute_reply": "2022-11-30T20:43:10.640429Z"
    },
    "papermill": {
     "duration": 0.388968,
     "end_time": "2022-11-30T20:43:10.643872",
     "exception": false,
     "start_time": "2022-11-30T20:43:10.254904",
     "status": "completed"
    },
    "tags": []
   },
   "outputs": [
    {
     "name": "stdout",
     "output_type": "stream",
     "text": [
      "[0 0 0 0 0 0 0 0 0 0 0 0 0 0 0 0 0 0 0 0 0 0 0 0 0 0 0 0 0 0 0 0 0 0 0 0 0\n",
      " 0 0 0 0 0 0 0 0 0 0 0 0 0 0 0 0 0 0 0 0 0 0 0 0 0 0 0 0 0 0 0 0 0 0 0 0 0\n",
      " 0 0 0 0 0 0 0 0 0 0 0 0 0 0 0 0 0 0 0 0 0 0 0 0 0 0 0 0 0 0 0 0 0 0 0 0 0\n",
      " 0 0 0 0 0 0 0 0 0 0 0 0 0 0 0 0 0 0 0 0 0 0 0 0 0 0 0 0 0 0 0 0 0 0 0 0 0\n",
      " 0 0 0 0 0 0 0 0 0 0 0 0 0 0 0 0 0 0 0 0 0 0 0 0 0 0 0 0 0 0 0 0]\n",
      "[0.71 0.7  0.69 0.7  0.69 0.69 0.7  0.7  0.69 0.68 0.68 0.7  0.67 0.68\n",
      " 0.68 0.68 0.69 0.68 0.68 0.68 0.69 0.68 0.7  0.68 0.7  0.7  0.7  0.69\n",
      " 0.71 0.69 0.7  0.69 0.71 0.7  0.69 0.69 0.69 0.7  0.71 0.69 0.68 0.67\n",
      " 0.69 0.72 0.69 0.67 0.67 0.68 0.71 0.71 0.67 0.68 0.69 0.72 0.69 0.64\n",
      " 0.68 0.7  0.68 0.68 0.71 0.7  0.66 0.67 0.7  0.67 0.69 0.69 0.69 0.68\n",
      " 0.71 0.69 0.67 0.71 0.69 0.7  0.68 0.67 0.7  0.7  0.72 0.67 0.68 0.68\n",
      " 0.69 0.67 0.7  0.69 0.71 0.7  0.68 0.68 0.68 0.68 0.68 0.68 0.7  0.7\n",
      " 0.69 0.68 0.69 0.7  0.67 0.68 0.7  0.69 0.66 0.68 0.72 0.69 0.69 0.71\n",
      " 0.72 0.7  0.69 0.67 0.71 0.7  0.67 0.69 0.68 0.71 0.69 0.72 0.69 0.68\n",
      " 0.71 0.7  0.7  0.72 0.68 0.68 0.69 0.69 0.67 0.68 0.67 0.71 0.69 0.69\n",
      " 0.68 0.7  0.68 0.69 0.71 0.68 0.69 0.71 0.69 0.69 0.7  0.71 0.7  0.71\n",
      " 0.68 0.71 0.71 0.69 0.71 0.69 0.69 0.68 0.69 0.69 0.69 0.68 0.71 0.7\n",
      " 0.71 0.69 0.69 0.67 0.7  0.72 0.7  0.67 0.69 0.69 0.71 0.69]\n"
     ]
    }
   ],
   "source": [
    "test_proba = nn_clf.predict([test_dataset.H1])\n",
    "print(test_proba.argmax(axis=1))\n",
    "print(test_proba.max(axis=1).round(2))\n",
    "# Now it's predicting 0 for every single answer. Also not good. "
   ]
  },
  {
   "attachments": {
    "d4159f67-c318-4b0c-9af8-58dd922a9a2e.png": {
     "image/png": "[encoded data removed]"
    }
   },
   "cell_type": "markdown",
   "id": "882873e9",
   "metadata": {
    "papermill": {
     "duration": 0.050482,
     "end_time": "2022-11-30T20:43:10.746228",
     "exception": false,
     "start_time": "2022-11-30T20:43:10.695746",
     "status": "completed"
    },
    "tags": []
   },
   "source": [
    "# So far we've succeeded \n",
    "## in making a very complicated way to assign the same constant to everything\n",
    "Time to stir the pile\n",
    "\n",
    "\n",
    "![image.png](attachment:d4159f67-c318-4b0c-9af8-58dd922a9a2e.png)"
   ]
  },
  {
   "cell_type": "code",
   "execution_count": null,
   "id": "8d912d2f",
   "metadata": {
    "papermill": {
     "duration": 0.049358,
     "end_time": "2022-11-30T20:43:10.845025",
     "exception": false,
     "start_time": "2022-11-30T20:43:10.795667",
     "status": "completed"
    },
    "tags": []
   },
   "outputs": [],
   "source": []
  },
  {
   "cell_type": "markdown",
   "id": "97dcce5d",
   "metadata": {
    "papermill": {
     "duration": 0.048748,
     "end_time": "2022-11-30T20:43:10.943823",
     "exception": false,
     "start_time": "2022-11-30T20:43:10.895075",
     "status": "completed"
    },
    "tags": []
   },
   "source": []
  }
 ],
 "metadata": {
  "kernelspec": {
   "display_name": "Python 3",
   "language": "python",
   "name": "python3"
  },
  "language_info": {
   "codemirror_mode": {
    "name": "ipython",
    "version": 3
   },
   "file_extension": ".py",
   "mimetype": "text/x-python",
   "name": "python",
   "nbconvert_exporter": "python",
   "pygments_lexer": "ipython3",
   "version": "3.7.12"
  },
  "papermill": {
   "default_parameters": {},
   "duration": 358.446753,
   "end_time": "2022-11-30T20:43:14.607500",
   "environment_variables": {},
   "exception": null,
   "input_path": "__notebook__.ipynb",
   "output_path": "__notebook__.ipynb",
   "parameters": {},
   "start_time": "2022-11-30T20:37:16.160747",
   "version": "2.3.4"
  }
 },
 "nbformat": 4,
 "nbformat_minor": 5
}
