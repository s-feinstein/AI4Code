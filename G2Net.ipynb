{
 "cells": [
  {
   "cell_type": "markdown",
   "id": "0e8690a6",
   "metadata": {
    "id": "view-in-github",
    "papermill": {
     "duration": 0.005971,
     "end_time": "2022-11-16T02:58:54.448775",
     "exception": false,
     "start_time": "2022-11-16T02:58:54.442804",
     "status": "completed"
    },
    "tags": []
   },
   "source": [
    "<a href=\"https://colab.research.google.com/github/s-feinstein/G2Net/blob/dev/G2Net.ipynb\" target=\"_parent\"><img src=\"https://colab.research.google.com/assets/colab-badge.svg\" alt=\"Open In Colab\"/></a>"
   ]
  },
  {
   "cell_type": "markdown",
   "id": "dc30d1dd",
   "metadata": {
    "id": "7uhXOtQg9B6y",
    "papermill": {
     "duration": 0.003528,
     "end_time": "2022-11-16T02:58:54.456693",
     "exception": false,
     "start_time": "2022-11-16T02:58:54.453165",
     "status": "completed"
    },
    "tags": []
   },
   "source": [
    "# [G2Net](https://www.kaggle.com/competitions/g2net-detecting-continuous-gravitational-waves/) – Detecting Continuous Gravitational Waves\n",
    "\n",
    "**Objective:**\n",
    "Help us detect long-lasting gravitational-wave signals!\n",
    "\n",
    "The goal of this competition is to find continuous gravitational-wave signals. You will develop a model sensitive enough to detect weak yet long-lasting signals emitted by rapidly-spinning neutron stars within noisy data.\n",
    "\n",
    "**Secret Objective!!!** Receive excellent marks from this final project in [3253 - Machine Learning at U. Toronto](https://learn.utoronto.ca/programs-courses/courses/3253-machine-learning)"
   ]
  },
  {
   "cell_type": "markdown",
   "id": "e6ca329c",
   "metadata": {
    "id": "mX2OHrGhLqjR",
    "papermill": {
     "duration": 0.003357,
     "end_time": "2022-11-16T02:58:54.463807",
     "exception": false,
     "start_time": "2022-11-16T02:58:54.460450",
     "status": "completed"
    },
    "tags": []
   },
   "source": [
    "## Authenticate with Secrets"
   ]
  },
  {
   "cell_type": "code",
   "execution_count": 1,
   "id": "9e325321",
   "metadata": {
    "execution": {
     "iopub.execute_input": "2022-11-16T02:58:54.473598Z",
     "iopub.status.busy": "2022-11-16T02:58:54.472938Z",
     "iopub.status.idle": "2022-11-16T02:58:55.914650Z",
     "shell.execute_reply": "2022-11-16T02:58:55.913142Z"
    },
    "id": "5fdmPvLSLuXH",
    "outputId": "09f97683-10d9-4636-b458-c043d59c9821",
    "papermill": {
     "duration": 1.450172,
     "end_time": "2022-11-16T02:58:55.917746",
     "exception": false,
     "start_time": "2022-11-16T02:58:54.467574",
     "status": "completed"
    },
    "tags": []
   },
   "outputs": [],
   "source": [
    "!wget -q -N \"https://raw.githubusercontent.com/s-feinstein/G2Net/dev/setup-colab.py\"\n",
    "%run setup-colab.py"
   ]
  },
  {
   "cell_type": "markdown",
   "id": "1b9ca8b0",
   "metadata": {
    "id": "c8Gmelta-J_r",
    "papermill": {
     "duration": 0.003355,
     "end_time": "2022-11-16T02:58:55.924984",
     "exception": false,
     "start_time": "2022-11-16T02:58:55.921629",
     "status": "completed"
    },
    "tags": []
   },
   "source": [
    "## Import the dataset"
   ]
  },
  {
   "cell_type": "code",
   "execution_count": 2,
   "id": "3b69062c",
   "metadata": {
    "execution": {
     "iopub.execute_input": "2022-11-16T02:58:55.934585Z",
     "iopub.status.busy": "2022-11-16T02:58:55.934103Z",
     "iopub.status.idle": "2022-11-16T02:58:57.460257Z",
     "shell.execute_reply": "2022-11-16T02:58:57.459107Z"
    },
    "id": "Uh5EmJ8v9A1Q",
    "outputId": "716dc602-281a-4304-b21c-2fade3dee313",
    "papermill": {
     "duration": 1.534048,
     "end_time": "2022-11-16T02:58:57.462812",
     "exception": false,
     "start_time": "2022-11-16T02:58:55.928764",
     "status": "completed"
    },
    "tags": []
   },
   "outputs": [
    {
     "name": "stdout",
     "output_type": "stream",
     "text": [
      "Traceback (most recent call last):\r\n",
      "  File \"/opt/conda/bin/kaggle\", line 5, in <module>\r\n",
      "    from kaggle.cli import main\r\n",
      "  File \"/opt/conda/lib/python3.7/site-packages/kaggle/__init__.py\", line 23, in <module>\r\n",
      "    api.authenticate()\r\n",
      "  File \"/opt/conda/lib/python3.7/site-packages/kaggle/api/kaggle_api_extended.py\", line 166, in authenticate\r\n",
      "    self.config_file, self.config_dir))\r\n",
      "OSError: Could not find kaggle.json. Make sure it's located in /root/.kaggle. Or use the environment method.\r\n"
     ]
    }
   ],
   "source": [
    "# !pip install kaggle\n",
    "\n",
    "!kaggle competitions download g2net-detecting-continuous-gravitational-waves"
   ]
  },
  {
   "cell_type": "markdown",
   "id": "5f1ee1f3",
   "metadata": {
    "id": "HqZtXQOBALCY",
    "papermill": {
     "duration": 0.00347,
     "end_time": "2022-11-16T02:58:57.470395",
     "exception": false,
     "start_time": "2022-11-16T02:58:57.466925",
     "status": "completed"
    },
    "tags": []
   },
   "source": [
    "## Load the labels\n",
    "\n",
    "Load the labels and split it into train and test"
   ]
  },
  {
   "cell_type": "code",
   "execution_count": 3,
   "id": "edc7c802",
   "metadata": {
    "execution": {
     "iopub.execute_input": "2022-11-16T02:58:57.480094Z",
     "iopub.status.busy": "2022-11-16T02:58:57.479663Z",
     "iopub.status.idle": "2022-11-16T02:58:58.727046Z",
     "shell.execute_reply": "2022-11-16T02:58:58.725727Z"
    },
    "id": "HQgAHj9uAM-T",
    "outputId": "bc1ea68d-19bb-45c4-92a4-0a451b348d8b",
    "papermill": {
     "duration": 1.256131,
     "end_time": "2022-11-16T02:58:58.730222",
     "exception": false,
     "start_time": "2022-11-16T02:58:57.474091",
     "status": "completed"
    },
    "tags": []
   },
   "outputs": [
    {
     "name": "stdout",
     "output_type": "stream",
     "text": [
      "<class 'pandas.core.frame.DataFrame'>\n",
      "Int64Index: 420 entries, 108 to 102\n",
      "Data columns (total 2 columns):\n",
      " #   Column  Non-Null Count  Dtype \n",
      "---  ------  --------------  ----- \n",
      " 0   id      420 non-null    object\n",
      " 1   target  420 non-null    int64 \n",
      "dtypes: int64(1), object(1)\n",
      "memory usage: 9.8+ KB\n"
     ]
    }
   ],
   "source": [
    "import pandas as pd\n",
    "train_labels = pd.read_csv('../input/g2net-detecting-continuous-gravitational-waves/train_labels.csv')\n",
    "\n",
    "# Removing the negative labels\n",
    "train_labels = train_labels[train_labels.target>=0]\n",
    "# train_labels.target.value_counts()\n",
    "# train_labels.info()\n",
    "\n",
    "# Split Data\n",
    "from sklearn.model_selection import train_test_split\n",
    "#train test split\n",
    "train_set, test_set = train_test_split(train_labels, test_size=0.3, random_state=42)\n",
    "train_set.info()"
   ]
  },
  {
   "cell_type": "markdown",
   "id": "4231b450",
   "metadata": {
    "papermill": {
     "duration": 0.003702,
     "end_time": "2022-11-16T02:58:58.738626",
     "exception": false,
     "start_time": "2022-11-16T02:58:58.734924",
     "status": "completed"
    },
    "tags": []
   },
   "source": [
    "## Generate list of the training file paths"
   ]
  },
  {
   "cell_type": "code",
   "execution_count": 4,
   "id": "dab22654",
   "metadata": {
    "execution": {
     "iopub.execute_input": "2022-11-16T02:58:58.748881Z",
     "iopub.status.busy": "2022-11-16T02:58:58.747785Z",
     "iopub.status.idle": "2022-11-16T02:58:58.760969Z",
     "shell.execute_reply": "2022-11-16T02:58:58.759525Z"
    },
    "papermill": {
     "duration": 0.020989,
     "end_time": "2022-11-16T02:58:58.763491",
     "exception": false,
     "start_time": "2022-11-16T02:58:58.742502",
     "status": "completed"
    },
    "tags": []
   },
   "outputs": [
    {
     "data": {
      "text/plain": [
       "'/kaggle/input/g2net-detecting-continuous-gravitational-waves/train/2688e48bd.hdf5'"
      ]
     },
     "execution_count": 4,
     "metadata": {},
     "output_type": "execute_result"
    }
   ],
   "source": [
    "import os\n",
    "\n",
    "train_files = []\n",
    "train_path = \"/kaggle/input/g2net-detecting-continuous-gravitational-waves/train\"\n",
    "for id in train_set.loc[:,\"id\"]:\n",
    "    filename = id + \".hdf5\"\n",
    "    path = os.path.join(train_path, filename)\n",
    "    train_files.append(path)\n",
    "    \n",
    "train_files[0]"
   ]
  },
  {
   "cell_type": "markdown",
   "id": "bc940775",
   "metadata": {
    "papermill": {
     "duration": 0.003726,
     "end_time": "2022-11-16T02:58:58.771321",
     "exception": false,
     "start_time": "2022-11-16T02:58:58.767595",
     "status": "completed"
    },
    "tags": []
   },
   "source": [
    "## Explore the data"
   ]
  },
  {
   "cell_type": "code",
   "execution_count": 5,
   "id": "3f833a11",
   "metadata": {
    "execution": {
     "iopub.execute_input": "2022-11-16T02:58:58.781093Z",
     "iopub.status.busy": "2022-11-16T02:58:58.780665Z",
     "iopub.status.idle": "2022-11-16T02:58:58.986515Z",
     "shell.execute_reply": "2022-11-16T02:58:58.984613Z"
    },
    "papermill": {
     "duration": 0.215062,
     "end_time": "2022-11-16T02:58:58.990323",
     "exception": false,
     "start_time": "2022-11-16T02:58:58.775261",
     "status": "completed"
    },
    "tags": []
   },
   "outputs": [
    {
     "name": "stdout",
     "output_type": "stream",
     "text": [
      "2688e48bd\n",
      "<KeysViewHDF5 ['H1', 'L1', 'frequency_Hz']>\n",
      "<KeysViewHDF5 ['SFTs', 'timestamps_GPS']>\n",
      "<KeysViewHDF5 ['SFTs', 'timestamps_GPS']>\n",
      "<HDF5 dataset \"frequency_Hz\": shape (360,), type \"<f8\">\n",
      "[306.92055556 306.92111111 306.92166667 306.92222222]\n",
      "<HDF5 dataset \"timestamps_GPS\": shape (4564,), type \"<i8\">\n",
      "1238170479  -  1248546822\n",
      "<HDF5 dataset \"SFTs\": shape (360, 4564), type \"<c8\">\n",
      "[[-4.5731778e-23+1.18721092e-22j  2.8206372e-23-1.11619598e-23j\n",
      "   1.1124856e-22-3.01264718e-23j ... -9.1336872e-23-1.15372359e-22j\n",
      "   4.9273540e-23+8.50121319e-23j -2.2122217e-22+7.59737612e-23j]\n",
      " [-4.5931660e-23-1.34403698e-22j  2.4227980e-23+1.09901059e-22j\n",
      "   1.7774413e-22-1.22264384e-23j ... -9.4565130e-23+2.65873464e-22j\n",
      "  -4.0620313e-23-4.09678061e-23j -7.8723440e-23-4.63299556e-23j]]\n",
      "<HDF5 dataset \"timestamps_GPS\": shape (4646,), type \"<i8\">\n",
      "1238167882  -  1248558232\n",
      "<HDF5 dataset \"SFTs\": shape (360, 4646), type \"<c8\">\n",
      "[[ 2.2248422e-22+5.95424828e-23j -1.1790475e-22-6.16426640e-23j\n",
      "   6.1226429e-23+8.86846644e-23j ... -4.7563437e-23+1.50807625e-22j\n",
      "   1.5231211e-22-3.16075486e-23j -1.2408348e-22+1.00703377e-22j]\n",
      " [ 6.6662400e-23+1.94688158e-23j  1.6869725e-22-5.63161111e-23j\n",
      "   2.3793220e-23-7.21484611e-23j ... -1.3155282e-22-9.33249966e-23j\n",
      "  -2.2897292e-22+7.13257659e-24j  3.4023306e-23-1.00261690e-22j]]\n"
     ]
    }
   ],
   "source": [
    "import h5py\n",
    "file = h5py.File(train_files[0])\n",
    "\n",
    "print(list(file.keys())[0])\n",
    "print(file['2688e48bd'].keys())\n",
    "print(file['2688e48bd']['H1'].keys())\n",
    "print(file['2688e48bd']['L1'].keys())\n",
    "print(file['2688e48bd']['frequency_Hz'])\n",
    "print(file['2688e48bd']['frequency_Hz'][0:4])\n",
    "print(file['2688e48bd']['H1']['timestamps_GPS'])\n",
    "print(file['2688e48bd']['H1']['timestamps_GPS'][0], \" - \", file['2688e48bd']['H1']['timestamps_GPS'][-1])\n",
    "print(file['2688e48bd']['H1']['SFTs'])\n",
    "print(file['2688e48bd']['H1']['SFTs'][0:2])\n",
    "print(file['2688e48bd']['L1']['timestamps_GPS'])\n",
    "print(file['2688e48bd']['L1']['timestamps_GPS'][0], \" - \", file['2688e48bd']['L1']['timestamps_GPS'][-1])\n",
    "print(file['2688e48bd']['L1']['SFTs'])\n",
    "print(file['2688e48bd']['L1']['SFTs'][0:2])"
   ]
  },
  {
   "cell_type": "markdown",
   "id": "72ce9671",
   "metadata": {
    "papermill": {
     "duration": 0.003844,
     "end_time": "2022-11-16T02:58:58.998845",
     "exception": false,
     "start_time": "2022-11-16T02:58:58.995001",
     "status": "completed"
    },
    "tags": []
   },
   "source": [
    "## Load the data into a dataframe"
   ]
  },
  {
   "cell_type": "code",
   "execution_count": 6,
   "id": "77a5d96b",
   "metadata": {
    "execution": {
     "iopub.execute_input": "2022-11-16T02:58:59.008974Z",
     "iopub.status.busy": "2022-11-16T02:58:59.008528Z",
     "iopub.status.idle": "2022-11-16T02:59:06.393189Z",
     "shell.execute_reply": "2022-11-16T02:59:06.391899Z"
    },
    "papermill": {
     "duration": 7.392685,
     "end_time": "2022-11-16T02:59:06.395817",
     "exception": false,
     "start_time": "2022-11-16T02:58:59.003132",
     "status": "completed"
    },
    "tags": []
   },
   "outputs": [
    {
     "name": "stdout",
     "output_type": "stream",
     "text": [
      "420\n"
     ]
    },
    {
     "data": {
      "text/html": [
       "<div>\n",
       "<style scoped>\n",
       "    .dataframe tbody tr th:only-of-type {\n",
       "        vertical-align: middle;\n",
       "    }\n",
       "\n",
       "    .dataframe tbody tr th {\n",
       "        vertical-align: top;\n",
       "    }\n",
       "\n",
       "    .dataframe thead th {\n",
       "        text-align: right;\n",
       "    }\n",
       "</style>\n",
       "<table border=\"1\" class=\"dataframe\">\n",
       "  <thead>\n",
       "    <tr style=\"text-align: right;\">\n",
       "      <th></th>\n",
       "      <th>filename</th>\n",
       "      <th>frequency_Hz</th>\n",
       "      <th>H1_SFTs</th>\n",
       "      <th>H1_timestamps_GPS</th>\n",
       "      <th>L1_SFTs</th>\n",
       "      <th>L1_timestamps_GPS</th>\n",
       "    </tr>\n",
       "  </thead>\n",
       "  <tbody>\n",
       "    <tr>\n",
       "      <th>0</th>\n",
       "      <td>2688e48bd</td>\n",
       "      <td>[306.92055555555555, 306.92111111111114, 306.9...</td>\n",
       "      <td>[[(-4.5731778e-23+1.1872109e-22j), (2.8206372e...</td>\n",
       "      <td>[1238170479, 1238172279, 1238174079, 123817587...</td>\n",
       "      <td>[[(2.2248422e-22+5.954248e-23j), (-1.1790475e-...</td>\n",
       "      <td>[1238167882, 1238169682, 1238171482, 123817328...</td>\n",
       "    </tr>\n",
       "    <tr>\n",
       "      <th>1</th>\n",
       "      <td>77b9c1867</td>\n",
       "      <td>[223.00333333333336, 223.0038888888889, 223.00...</td>\n",
       "      <td>[[(6.121172e-23-6.4529106e-23j), (-2.160171e-2...</td>\n",
       "      <td>[1238168355, 1238170155, 1238171955, 123817375...</td>\n",
       "      <td>[[(-1.3897427e-22+9.1452695e-23j), (1.375147e-...</td>\n",
       "      <td>[1238166700, 1238168500, 1238170300, 123817714...</td>\n",
       "    </tr>\n",
       "    <tr>\n",
       "      <th>2</th>\n",
       "      <td>ffa1d19c7</td>\n",
       "      <td>[234.37611111111113, 234.3766666666667, 234.37...</td>\n",
       "      <td>[[(-7.681505e-23+9.315671e-23j), (3.471281e-23...</td>\n",
       "      <td>[1238176250, 1238178050, 1238179850, 123818165...</td>\n",
       "      <td>[[(1.2530556e-22-5.2474743e-23j), (5.3851836e-...</td>\n",
       "      <td>[1238180750, 1238182550, 1238184350, 123818615...</td>\n",
       "    </tr>\n",
       "    <tr>\n",
       "      <th>3</th>\n",
       "      <td>cbff2fdcd</td>\n",
       "      <td>[174.19166666666666, 174.19222222222223, 174.1...</td>\n",
       "      <td>[[(4.654238e-23-1.4819893e-22j), (7.379933e-23...</td>\n",
       "      <td>[1238172169, 1238173969, 1238175769, 123817756...</td>\n",
       "      <td>[[(-3.2067044e-23+2.6889726e-22j), (6.3008163e...</td>\n",
       "      <td>[1238186471, 1238188271, 1238190071, 123819187...</td>\n",
       "    </tr>\n",
       "    <tr>\n",
       "      <th>4</th>\n",
       "      <td>b832e8026</td>\n",
       "      <td>[403.0227777777778, 403.0233333333333, 403.023...</td>\n",
       "      <td>[[(-1.7797844e-22+7.5566185e-23j), (4.1235438e...</td>\n",
       "      <td>[1238170165, 1238171306, 1238173106, 123817490...</td>\n",
       "      <td>[[(3.8408568e-23+3.277592e-23j), (-4.227776e-2...</td>\n",
       "      <td>[1238169343, 1238171143, 1238172943, 123817474...</td>\n",
       "    </tr>\n",
       "  </tbody>\n",
       "</table>\n",
       "</div>"
      ],
      "text/plain": [
       "    filename                                       frequency_Hz  \\\n",
       "0  2688e48bd  [306.92055555555555, 306.92111111111114, 306.9...   \n",
       "1  77b9c1867  [223.00333333333336, 223.0038888888889, 223.00...   \n",
       "2  ffa1d19c7  [234.37611111111113, 234.3766666666667, 234.37...   \n",
       "3  cbff2fdcd  [174.19166666666666, 174.19222222222223, 174.1...   \n",
       "4  b832e8026  [403.0227777777778, 403.0233333333333, 403.023...   \n",
       "\n",
       "                                             H1_SFTs  \\\n",
       "0  [[(-4.5731778e-23+1.1872109e-22j), (2.8206372e...   \n",
       "1  [[(6.121172e-23-6.4529106e-23j), (-2.160171e-2...   \n",
       "2  [[(-7.681505e-23+9.315671e-23j), (3.471281e-23...   \n",
       "3  [[(4.654238e-23-1.4819893e-22j), (7.379933e-23...   \n",
       "4  [[(-1.7797844e-22+7.5566185e-23j), (4.1235438e...   \n",
       "\n",
       "                                   H1_timestamps_GPS  \\\n",
       "0  [1238170479, 1238172279, 1238174079, 123817587...   \n",
       "1  [1238168355, 1238170155, 1238171955, 123817375...   \n",
       "2  [1238176250, 1238178050, 1238179850, 123818165...   \n",
       "3  [1238172169, 1238173969, 1238175769, 123817756...   \n",
       "4  [1238170165, 1238171306, 1238173106, 123817490...   \n",
       "\n",
       "                                             L1_SFTs  \\\n",
       "0  [[(2.2248422e-22+5.954248e-23j), (-1.1790475e-...   \n",
       "1  [[(-1.3897427e-22+9.1452695e-23j), (1.375147e-...   \n",
       "2  [[(1.2530556e-22-5.2474743e-23j), (5.3851836e-...   \n",
       "3  [[(-3.2067044e-23+2.6889726e-22j), (6.3008163e...   \n",
       "4  [[(3.8408568e-23+3.277592e-23j), (-4.227776e-2...   \n",
       "\n",
       "                                   L1_timestamps_GPS  \n",
       "0  [1238167882, 1238169682, 1238171482, 123817328...  \n",
       "1  [1238166700, 1238168500, 1238170300, 123817714...  \n",
       "2  [1238180750, 1238182550, 1238184350, 123818615...  \n",
       "3  [1238186471, 1238188271, 1238190071, 123819187...  \n",
       "4  [1238169343, 1238171143, 1238172943, 123817474...  "
      ]
     },
     "execution_count": 6,
     "metadata": {},
     "output_type": "execute_result"
    }
   ],
   "source": [
    "train_data_array = []\n",
    "for path in train_files:\n",
    "    file = h5py.File(path)\n",
    "    filename = list(file.keys())[0]\n",
    "    frequency_Hz = file[filename]['frequency_Hz']\n",
    "    H1_SFTs = file[filename]['H1']['SFTs']\n",
    "    H1_timestamps_GPS = file[filename]['H1']['timestamps_GPS']\n",
    "    L1_SFTs = file[filename]['L1']['SFTs']\n",
    "    L1_timestamps_GPS = file[filename]['L1']['timestamps_GPS']\n",
    "    train_data_array.append([filename, frequency_Hz, H1_SFTs, H1_timestamps_GPS, L1_SFTs, L1_timestamps_GPS])\n",
    "    \n",
    "print(len(train_data_array))\n",
    "train_data = pd.DataFrame(train_data_array, columns=['filename', 'frequency_Hz', 'H1_SFTs', 'H1_timestamps_GPS','L1_SFTs', 'L1_timestamps_GPS'])\n",
    "train_data.head()"
   ]
  }
 ],
 "metadata": {
  "kernelspec": {
   "display_name": "Python 3",
   "language": "python",
   "name": "python3"
  },
  "language_info": {
   "codemirror_mode": {
    "name": "ipython",
    "version": 3
   },
   "file_extension": ".py",
   "mimetype": "text/x-python",
   "name": "python",
   "nbconvert_exporter": "python",
   "pygments_lexer": "ipython3",
   "version": "3.7.12"
  },
  "papermill": {
   "default_parameters": {},
   "duration": 21.829056,
   "end_time": "2022-11-16T02:59:07.324736",
   "environment_variables": {},
   "exception": null,
   "input_path": "__notebook__.ipynb",
   "output_path": "__notebook__.ipynb",
   "parameters": {},
   "start_time": "2022-11-16T02:58:45.495680",
   "version": "2.3.4"
  }
 },
 "nbformat": 4,
 "nbformat_minor": 5
}
